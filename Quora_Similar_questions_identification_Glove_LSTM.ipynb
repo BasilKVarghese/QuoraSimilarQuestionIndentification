{
  "cells": [
    {
      "cell_type": "markdown",
      "metadata": {
        "id": "VChNQ4XjtRkq"
      },
      "source": [
        "### Loading Libraries"
      ]
    },
    {
      "cell_type": "code",
      "execution_count": null,
      "metadata": {
        "colab": {
          "base_uri": "https://localhost:8080/"
        },
        "id": "nLsUmByDdUdb",
        "outputId": "01e5cf06-e7f9-44cf-c90d-430818e4eeab"
      },
      "outputs": [
        {
          "output_type": "stream",
          "name": "stderr",
          "text": [
            "[nltk_data] Downloading package stopwords to /root/nltk_data...\n",
            "[nltk_data]   Unzipping corpora/stopwords.zip.\n",
            "[nltk_data] Downloading package wordnet to /root/nltk_data...\n",
            "[nltk_data] Downloading package omw-1.4 to /root/nltk_data...\n"
          ]
        },
        {
          "output_type": "stream",
          "name": "stdout",
          "text": [
            "Mounted at /content/drive\n"
          ]
        }
      ],
      "source": [
        "import numpy as np\n",
        "import pandas as pd\n",
        "from google.colab import drive\n",
        "drive.mount('/content/drive')\n",
        "\n",
        "\n",
        "import sklearn\n",
        "from sklearn import preprocessing\n",
        "\n",
        "### NLP Libraries\n",
        "import string\n",
        "import re\n",
        "from nltk.tokenize import  word_tokenize \n",
        "import nltk\n",
        "from sklearn.metrics import precision_score, accuracy_score, recall_score, f1_score, classification_report\n",
        "nltk.download('stopwords')\n",
        "nltk.download('wordnet')\n",
        "nltk.download('omw-1.4')\n",
        "from nltk.corpus import stopwords\n",
        "stpwords = set(stopwords.words('english'))\n",
        "from nltk.stem import WordNetLemmatizer\n",
        "lemmatizer = WordNetLemmatizer()\n",
        "\n",
        "from sklearn.model_selection import train_test_split\n",
        "pd.options.display.max_colwidth = 500\n",
        "\n",
        "\n",
        "### Importing TensorFlow Libraries\n",
        "\n",
        "from tensorflow.keras.preprocessing.sequence import pad_sequences\n",
        "from tensorflow.keras.preprocessing.text import Tokenizer\n",
        "import tensorflow as tf\n",
        "from tensorflow.keras.layers import Dense, Embedding, LSTM, Flatten, Dropout, Bidirectional, Multiply, Lambda\n",
        "from tensorflow.keras import Model\n",
        "from tensorflow.keras.optimizers import Adam\n",
        "import keras.backend as K\n",
        "\n",
        "### Importing Word2Vec Embeddings\n",
        "\n",
        "# import gensim\n",
        "# from sklearn.naive_bayes import GaussianNB, MultinomialNB\n",
        "# from gensim.models import KeyedVectors\n",
        "# filename = 'GoogleNews-vectors-negative300.bin'\n",
        "# w2v_dictionary = KeyedVectors.load_word2vec_format(filename, binary=True)\n",
        "\n",
        "# if glove file is on your google drive and you are running the notebook on colab, run this code below, else ignore\n",
        "\n",
        "\n",
        "### Importing Glove Embeddings\n",
        "path = '/content/drive/My Drive/glove.6B.200d.txt'\n",
        "### Loading Glove vectors\n",
        "glove_dictionary = {}\n",
        "with open(path) as file:\n",
        "    for each_line in file:\n",
        "        words_in_line, coeff_cients = each_line.split(maxsplit=1)\n",
        "        coeff_cients = np.array(coeff_cients.split(),dtype = float)\n",
        "        glove_dictionary[words_in_line] = coeff_cients\n"
      ]
    },
    {
      "cell_type": "code",
      "execution_count": null,
      "metadata": {
        "id": "biOn-3Jt61oT"
      },
      "outputs": [],
      "source": [
        "def clean_message(text):\n",
        "    '''Function to clean and preprocess the input text'''\n",
        "\n",
        "    text = re.sub(\"'\", \"\", text) # to avoid removing contractions in english\n",
        "    text = re.sub(r'\\$\\w*', '', text)\n",
        "    text = re.sub(r'\\'s', '', text)\n",
        "    text = re.sub(r'<br />', '', text)\n",
        "    text = re.sub(r'^RT[\\s]+', '', text)\n",
        "    text = re.sub(\"@[A-Za-z0-9_]+\",\"\", text)\n",
        "    text = re.sub(\"#[A-Za-z0-9_]+\",\"\", text)\n",
        "    text = re.sub(r'http\\S+', '', text)\n",
        "    text = re.sub('[()!?]', ' ', text)\n",
        "    text = re.sub('\\[.*?\\]',' ', text)\n",
        "    text = re.sub(\"[^a-z0-9]\",\" \", text)\n",
        "    text = text.lower()\n",
        "    text_links_removed = \"\".join([char for char in text if char not in string.punctuation])\n",
        "    text_cleaned = \" \".join([word for word in re.split('\\W+', text_links_removed) if word not in stpwords])\n",
        "    #text_cleaned = \" \".join([word for word in re.split('\\W+', text_links_removed)])\n",
        "    text = \" \".join([lemmatizer.lemmatize(word) for word in re.split('\\W+', text_cleaned)])\n",
        "    return text\n",
        "        \n",
        "def exponent_neg_manhattan_distance(left, right):\n",
        "    return K.exp(-K.sum(K.abs(left-right), axis=1, keepdims=True))\n",
        "\n",
        "def exponent_neg_euclidean_distance(left, right):\n",
        "    return K.exp(-(K.sqrt(K.sum(K.square(left-right), axis=1, keepdims=True))))\n"
      ]
    },
    {
      "cell_type": "markdown",
      "metadata": {
        "id": "IUdE5mPdtVc0"
      },
      "source": [
        "### Loading Dataset"
      ]
    },
    {
      "cell_type": "code",
      "execution_count": null,
      "metadata": {
        "colab": {
          "base_uri": "https://localhost:8080/",
          "height": 320
        },
        "id": "dT-Ab3cOePmo",
        "outputId": "4707187b-208f-47ab-b9f7-f46a8b59ff4a"
      },
      "outputs": [
        {
          "output_type": "stream",
          "name": "stdout",
          "text": [
            "(404287, 6)\n"
          ]
        },
        {
          "output_type": "execute_result",
          "data": {
            "text/plain": [
              "   id  qid1  qid2  \\\n",
              "0   0     1     2   \n",
              "1   1     3     4   \n",
              "2   2     5     6   \n",
              "3   3     7     8   \n",
              "4   4     9    10   \n",
              "\n",
              "                                                                      question1  \\\n",
              "0            What is the step by step guide to invest in share market in india?   \n",
              "1                           What is the story of Kohinoor (Koh-i-Noor) Diamond?   \n",
              "2     How can I increase the speed of my internet connection while using a VPN?   \n",
              "3                            Why am I mentally very lonely? How can I solve it?   \n",
              "4  Which one dissolve in water quikly sugar, salt, methane and carbon di oxide?   \n",
              "\n",
              "                                                                                  question2  \\\n",
              "0                                 What is the step by step guide to invest in share market?   \n",
              "1  What would happen if the Indian government stole the Kohinoor (Koh-i-Noor) diamond back?   \n",
              "2                               How can Internet speed be increased by hacking through DNS?   \n",
              "3                         Find the remainder when [math]23^{24}[/math] is divided by 24,23?   \n",
              "4                                                   Which fish would survive in salt water?   \n",
              "\n",
              "   is_duplicate  \n",
              "0             0  \n",
              "1             0  \n",
              "2             0  \n",
              "3             0  \n",
              "4             0  "
            ],
            "text/html": [
              "\n",
              "  <div id=\"df-42ea2cd8-d8fa-48f3-9789-1e1955fc627e\">\n",
              "    <div class=\"colab-df-container\">\n",
              "      <div>\n",
              "<style scoped>\n",
              "    .dataframe tbody tr th:only-of-type {\n",
              "        vertical-align: middle;\n",
              "    }\n",
              "\n",
              "    .dataframe tbody tr th {\n",
              "        vertical-align: top;\n",
              "    }\n",
              "\n",
              "    .dataframe thead th {\n",
              "        text-align: right;\n",
              "    }\n",
              "</style>\n",
              "<table border=\"1\" class=\"dataframe\">\n",
              "  <thead>\n",
              "    <tr style=\"text-align: right;\">\n",
              "      <th></th>\n",
              "      <th>id</th>\n",
              "      <th>qid1</th>\n",
              "      <th>qid2</th>\n",
              "      <th>question1</th>\n",
              "      <th>question2</th>\n",
              "      <th>is_duplicate</th>\n",
              "    </tr>\n",
              "  </thead>\n",
              "  <tbody>\n",
              "    <tr>\n",
              "      <th>0</th>\n",
              "      <td>0</td>\n",
              "      <td>1</td>\n",
              "      <td>2</td>\n",
              "      <td>What is the step by step guide to invest in share market in india?</td>\n",
              "      <td>What is the step by step guide to invest in share market?</td>\n",
              "      <td>0</td>\n",
              "    </tr>\n",
              "    <tr>\n",
              "      <th>1</th>\n",
              "      <td>1</td>\n",
              "      <td>3</td>\n",
              "      <td>4</td>\n",
              "      <td>What is the story of Kohinoor (Koh-i-Noor) Diamond?</td>\n",
              "      <td>What would happen if the Indian government stole the Kohinoor (Koh-i-Noor) diamond back?</td>\n",
              "      <td>0</td>\n",
              "    </tr>\n",
              "    <tr>\n",
              "      <th>2</th>\n",
              "      <td>2</td>\n",
              "      <td>5</td>\n",
              "      <td>6</td>\n",
              "      <td>How can I increase the speed of my internet connection while using a VPN?</td>\n",
              "      <td>How can Internet speed be increased by hacking through DNS?</td>\n",
              "      <td>0</td>\n",
              "    </tr>\n",
              "    <tr>\n",
              "      <th>3</th>\n",
              "      <td>3</td>\n",
              "      <td>7</td>\n",
              "      <td>8</td>\n",
              "      <td>Why am I mentally very lonely? How can I solve it?</td>\n",
              "      <td>Find the remainder when [math]23^{24}[/math] is divided by 24,23?</td>\n",
              "      <td>0</td>\n",
              "    </tr>\n",
              "    <tr>\n",
              "      <th>4</th>\n",
              "      <td>4</td>\n",
              "      <td>9</td>\n",
              "      <td>10</td>\n",
              "      <td>Which one dissolve in water quikly sugar, salt, methane and carbon di oxide?</td>\n",
              "      <td>Which fish would survive in salt water?</td>\n",
              "      <td>0</td>\n",
              "    </tr>\n",
              "  </tbody>\n",
              "</table>\n",
              "</div>\n",
              "      <button class=\"colab-df-convert\" onclick=\"convertToInteractive('df-42ea2cd8-d8fa-48f3-9789-1e1955fc627e')\"\n",
              "              title=\"Convert this dataframe to an interactive table.\"\n",
              "              style=\"display:none;\">\n",
              "        \n",
              "  <svg xmlns=\"http://www.w3.org/2000/svg\" height=\"24px\"viewBox=\"0 0 24 24\"\n",
              "       width=\"24px\">\n",
              "    <path d=\"M0 0h24v24H0V0z\" fill=\"none\"/>\n",
              "    <path d=\"M18.56 5.44l.94 2.06.94-2.06 2.06-.94-2.06-.94-.94-2.06-.94 2.06-2.06.94zm-11 1L8.5 8.5l.94-2.06 2.06-.94-2.06-.94L8.5 2.5l-.94 2.06-2.06.94zm10 10l.94 2.06.94-2.06 2.06-.94-2.06-.94-.94-2.06-.94 2.06-2.06.94z\"/><path d=\"M17.41 7.96l-1.37-1.37c-.4-.4-.92-.59-1.43-.59-.52 0-1.04.2-1.43.59L10.3 9.45l-7.72 7.72c-.78.78-.78 2.05 0 2.83L4 21.41c.39.39.9.59 1.41.59.51 0 1.02-.2 1.41-.59l7.78-7.78 2.81-2.81c.8-.78.8-2.07 0-2.86zM5.41 20L4 18.59l7.72-7.72 1.47 1.35L5.41 20z\"/>\n",
              "  </svg>\n",
              "      </button>\n",
              "      \n",
              "  <style>\n",
              "    .colab-df-container {\n",
              "      display:flex;\n",
              "      flex-wrap:wrap;\n",
              "      gap: 12px;\n",
              "    }\n",
              "\n",
              "    .colab-df-convert {\n",
              "      background-color: #E8F0FE;\n",
              "      border: none;\n",
              "      border-radius: 50%;\n",
              "      cursor: pointer;\n",
              "      display: none;\n",
              "      fill: #1967D2;\n",
              "      height: 32px;\n",
              "      padding: 0 0 0 0;\n",
              "      width: 32px;\n",
              "    }\n",
              "\n",
              "    .colab-df-convert:hover {\n",
              "      background-color: #E2EBFA;\n",
              "      box-shadow: 0px 1px 2px rgba(60, 64, 67, 0.3), 0px 1px 3px 1px rgba(60, 64, 67, 0.15);\n",
              "      fill: #174EA6;\n",
              "    }\n",
              "\n",
              "    [theme=dark] .colab-df-convert {\n",
              "      background-color: #3B4455;\n",
              "      fill: #D2E3FC;\n",
              "    }\n",
              "\n",
              "    [theme=dark] .colab-df-convert:hover {\n",
              "      background-color: #434B5C;\n",
              "      box-shadow: 0px 1px 3px 1px rgba(0, 0, 0, 0.15);\n",
              "      filter: drop-shadow(0px 1px 2px rgba(0, 0, 0, 0.3));\n",
              "      fill: #FFFFFF;\n",
              "    }\n",
              "  </style>\n",
              "\n",
              "      <script>\n",
              "        const buttonEl =\n",
              "          document.querySelector('#df-42ea2cd8-d8fa-48f3-9789-1e1955fc627e button.colab-df-convert');\n",
              "        buttonEl.style.display =\n",
              "          google.colab.kernel.accessAllowed ? 'block' : 'none';\n",
              "\n",
              "        async function convertToInteractive(key) {\n",
              "          const element = document.querySelector('#df-42ea2cd8-d8fa-48f3-9789-1e1955fc627e');\n",
              "          const dataTable =\n",
              "            await google.colab.kernel.invokeFunction('convertToInteractive',\n",
              "                                                     [key], {});\n",
              "          if (!dataTable) return;\n",
              "\n",
              "          const docLinkHtml = 'Like what you see? Visit the ' +\n",
              "            '<a target=\"_blank\" href=https://colab.research.google.com/notebooks/data_table.ipynb>data table notebook</a>'\n",
              "            + ' to learn more about interactive tables.';\n",
              "          element.innerHTML = '';\n",
              "          dataTable['output_type'] = 'display_data';\n",
              "          await google.colab.output.renderOutput(dataTable, element);\n",
              "          const docLink = document.createElement('div');\n",
              "          docLink.innerHTML = docLinkHtml;\n",
              "          element.appendChild(docLink);\n",
              "        }\n",
              "      </script>\n",
              "    </div>\n",
              "  </div>\n",
              "  "
            ]
          },
          "metadata": {},
          "execution_count": 6
        }
      ],
      "source": [
        "### Importing Dataset\n",
        "\n",
        "data_org = pd.read_csv(\"/content/drive/MyDrive/Colab Notebooks/Capstone Quora Question Pairs/train.csv\")\n",
        "data_org = data_org.dropna()\n",
        "print(data_org.shape)\n",
        "data_org.head()"
      ]
    },
    {
      "cell_type": "code",
      "execution_count": null,
      "metadata": {
        "colab": {
          "base_uri": "https://localhost:8080/"
        },
        "id": "Hllbcd-Dsdct",
        "outputId": "85aefe37-e55b-4b90-ca2a-7c2816f87f58"
      },
      "outputs": [
        {
          "output_type": "execute_result",
          "data": {
            "text/plain": [
              "(404287, 6)"
            ]
          },
          "metadata": {},
          "execution_count": 7
        }
      ],
      "source": [
        "#data = data_org.sample(50000)\n",
        "data = data_org.copy()\n",
        "data.shape"
      ]
    },
    {
      "cell_type": "code",
      "execution_count": null,
      "metadata": {
        "colab": {
          "base_uri": "https://localhost:8080/"
        },
        "id": "L1U1vBy7Fp_V",
        "outputId": "09bdb583-02a1-4f6f-a47c-4d1ddd8606b4"
      },
      "outputs": [
        {
          "output_type": "execute_result",
          "data": {
            "text/plain": [
              "0    255024\n",
              "1    149263\n",
              "Name: is_duplicate, dtype: int64"
            ]
          },
          "metadata": {},
          "execution_count": 8
        }
      ],
      "source": [
        "data['is_duplicate'].value_counts()"
      ]
    },
    {
      "cell_type": "code",
      "execution_count": null,
      "metadata": {
        "id": "qEoMcMH0scID"
      },
      "outputs": [],
      "source": [
        "### Cleaning Question 1 and Question 2\n",
        "data['question1'] = data['question1'].apply(clean_message)\n",
        "data['question2'] = data['question2'].apply(clean_message)"
      ]
    },
    {
      "cell_type": "code",
      "execution_count": null,
      "metadata": {
        "colab": {
          "base_uri": "https://localhost:8080/"
        },
        "id": "_Tr2cO3tnWy9",
        "outputId": "f4a9156c-fe78-411e-f31a-77f499943d2c"
      },
      "outputs": [
        {
          "output_type": "execute_result",
          "data": {
            "text/plain": [
              "82822"
            ]
          },
          "metadata": {},
          "execution_count": 10
        }
      ],
      "source": [
        "### Getting a count of the number of unique words in the dataset\n",
        "\n",
        "temp = list(data['question1'].str.split(' ', expand=True).stack().unique())\n",
        "temp.extend(list(data['question2'].str.split(' ', expand=True).stack().unique()))\n",
        "len(set(temp)) #max words"
      ]
    },
    {
      "cell_type": "code",
      "execution_count": null,
      "metadata": {
        "colab": {
          "base_uri": "https://localhost:8080/"
        },
        "id": "11QcjVCLan_a",
        "outputId": "7c90948a-fb28-4bc9-840f-2a51aeaaeae1"
      },
      "outputs": [
        {
          "output_type": "stream",
          "name": "stdout",
          "text": [
            "\n",
            "### CLEANING DATASET ###\n",
            "Shape of dataset after cleaning (404279, 6)\n",
            "\n",
            "### TRAIN - TEST SPLIT ###\n",
            "Shape of x_train1 (323423,)\n",
            "Shape of x_test1 (80856,)\n",
            "Shape of x_train2 (323423,)\n",
            "Shape of x_test2 (80856,)\n",
            "Shape of y_train (323423,)\n",
            "Shape of x_test (80856,)\n"
          ]
        }
      ],
      "source": [
        "### Preprocessing the Dataset\n",
        "\n",
        "max_words = len(set(temp))\n",
        "print(\"\\n### CLEANING DATASET ###\")\n",
        "\n",
        "data = data[data['question2'].apply(lambda x: str(x)!= \"\")]\n",
        "data = data[data['question1'].apply(lambda x: str(x)!= \"\")]\n",
        "\n",
        "print('Shape of dataset after cleaning', data.shape)\n",
        "\n",
        "print(\"\\n### TRAIN - TEST SPLIT ###\")\n",
        "\n",
        "x1 = data['question1']\n",
        "x2 = data['question2']\n",
        "y = data['is_duplicate']\n",
        "\n",
        "x_train1, x_test1, y_train, y_test = train_test_split(x1,y,test_size=0.2, random_state=100)\n",
        "x_train2, x_test2, y_train, y_test = train_test_split(x2,y,test_size=0.2, random_state=100)\n",
        "\n",
        "print('Shape of x_train1',x_train1.shape)\n",
        "print('Shape of x_test1',x_test1.shape)\n",
        "print('Shape of x_train2',x_train1.shape)\n",
        "print('Shape of x_test2',x_test1.shape)\n",
        "print('Shape of y_train',y_train.shape)\n",
        "print('Shape of x_test',y_test.shape)"
      ]
    },
    {
      "cell_type": "code",
      "execution_count": null,
      "metadata": {
        "id": "RRuVSU177BYs"
      },
      "outputs": [],
      "source": [
        "### Deleting temporary variables to clear memory\n",
        "temp = None\n",
        "x1 = None\n",
        "x2 = None\n",
        "y = None"
      ]
    },
    {
      "cell_type": "code",
      "execution_count": null,
      "metadata": {
        "colab": {
          "base_uri": "https://localhost:8080/"
        },
        "id": "3avGNQgI9XnU",
        "outputId": "4e87f383-6cff-4038-ca75-0f34b586f30e"
      },
      "outputs": [
        {
          "output_type": "stream",
          "name": "stdout",
          "text": [
            "\n",
            "### EMBEDDING TEXTS ###\n",
            "681\n",
            "\n",
            " ### Shape after embeddings ###\n",
            "Shape of x_train1 (323423, 681)\n",
            "Shape of x_test1 (80856, 681)\n",
            "Shape of x_train2 (323423, 681)\n",
            "Shape of x_test2 (80856, 681)\n",
            "Shape of y_train (323423,)\n",
            "Shape of x_test (80856,)\n"
          ]
        }
      ],
      "source": [
        "## Embedding, tokenizing and padding the texts\n",
        "\n",
        "print(\"\\n### EMBEDDING TEXTS ###\")\n",
        "# Max number of words in each question\n",
        "max_seq = max(max(x_train1.apply(lambda x:len(x))),max(x_train2.apply(lambda x:len(x))))\n",
        "print(max_seq)\n",
        "\n",
        "max_words = 20000\n",
        "\n",
        "### Tokenizing\n",
        "tokenizer = Tokenizer(num_words=max_words,oov_token=\"<OOV>\")\n",
        "tokenizer.fit_on_texts(list(x_train1.astype(str))+list(x_train2.values.astype(str)))\n",
        "word_index = tokenizer.word_index\n",
        "\n",
        "### Converting Texts to sequences\n",
        "vocabulary = list(word_index.keys())\n",
        "x_train1 = tokenizer.texts_to_sequences(x_train1)\n",
        "x_test1 = tokenizer.texts_to_sequences(x_test1)\n",
        "x_train1 = pad_sequences(x_train1, maxlen = max_seq)\n",
        "x_test1 = pad_sequences(x_test1, maxlen = max_seq)\n",
        "\n",
        "x_train2 = tokenizer.texts_to_sequences(x_train2)\n",
        "x_test2 = tokenizer.texts_to_sequences(x_test2)\n",
        "x_train2 = pad_sequences(x_train2, maxlen = max_seq)\n",
        "x_test2 = pad_sequences(x_test2, maxlen = max_seq)\n",
        "\n",
        "### Creating embedding matrix\n",
        "embedding_matrix = np.zeros((len(vocabulary), 200))\n",
        "\n",
        "for word,index in word_index.items():\n",
        "    try: \n",
        "        embedding_matrix[index,:] = glove_dictionary[word]\n",
        "    except:\n",
        "        pass\n",
        "\n",
        "\n",
        "\n",
        "print(\"\\n ### Shape after embeddings ###\")\n",
        "\n",
        "print('Shape of x_train1',np.array(x_train1).shape)\n",
        "print('Shape of x_test1',np.array(x_test1).shape)\n",
        "print('Shape of x_train2',np.array(x_train2).shape)\n",
        "print('Shape of x_test2',np.array(x_test2).shape)\n",
        "print('Shape of y_train',np.array(y_train).shape)\n",
        "print('Shape of x_test',np.array(y_test).shape)\n",
        "\n"
      ]
    },
    {
      "cell_type": "code",
      "execution_count": null,
      "metadata": {
        "id": "fZRuWY7g_IuB"
      },
      "outputs": [],
      "source": [
        "tf.random.set_seed(42)\n",
        "\n",
        "def build_model(embedding_matrix):\n",
        "  \n",
        "  model_q1 = tf.keras.Sequential()\n",
        "  model_q1.add(Embedding(input_dim = len(word_index),\n",
        "                        output_dim = 200,\n",
        "                         input_length=max_seq,\n",
        "                        weights = [embedding_matrix]))\n",
        "  #model_q1.add(Bidirectional(LSTM(128, activation = 'relu')))\n",
        "  model_q1.add(LSTM(128, activation = 'relu'))\n",
        "  #model_q1.add(Dropout(0.2))\n",
        "  #model_q1.add(Dense(64, activation = 'relu'))\n",
        "  #model_q1.add(Dropout(0.2))\n",
        "  #model_q1.add(Dense(32, activation = 'relu'))\n",
        "  #model_q1.add(Dropout(0.2))\n",
        "  #model_q1.add(Dense(16, activation = 'relu'))\n",
        "  #model_q1.add(Dense(2, activation = 'sigmoid'))\n",
        "\n",
        "\n",
        "  model_q2 = tf.keras.Sequential()\n",
        "  model_q2.add(Embedding(input_dim = len(word_index),\n",
        "                        output_dim = 200,\n",
        "                         input_length=max_seq,\n",
        "                        weights = [embedding_matrix]))\n",
        "  #model_q2.add(Bidirectional(LSTM(128, activation = 'relu')))\n",
        "  model_q2.add(LSTM(128, activation = 'relu'))\n",
        "  #model_q2.add(Dropout(0.2))\n",
        "  #model_q2.add(Dense(64, activation = 'relu'))\n",
        "  #model_q2.add(Dropout(0.2))\n",
        "  #model_q2.add(Dense(32, activation = 'relu'))\n",
        "  #model_q2.add(Dropout(0.2))\n",
        "  #model_q2.add(Dense(16, activation = 'relu'))\n",
        "  #model_q2.add(Dense(2, activation = 'sigmoid'))\n",
        "\n",
        "  malstm_distance = Lambda(function=lambda x: exponent_neg_manhattan_distance(x[0], x[1]),output_shape=lambda x: (x[0][0], 1))([model_q1.output, model_q2.output])\n",
        "\n",
        "  new_model = Model([model_q1.input, model_q2.input], malstm_distance)\n",
        "  new_model.compile(optimizer = Adam(learning_rate = 0.0001), loss = 'mean_squared_error',\n",
        "                 metrics = ['accuracy','Precision','Recall'])\n",
        "  return new_model"
      ]
    },
    {
      "cell_type": "code",
      "execution_count": null,
      "metadata": {
        "colab": {
          "base_uri": "https://localhost:8080/"
        },
        "id": "Xk9mVIcxX9xd",
        "outputId": "d13069a1-7f18-4ec1-ddef-6192bbb45e61"
      },
      "outputs": [
        {
          "output_type": "stream",
          "name": "stderr",
          "text": [
            "WARNING:tensorflow:Layer lstm will not use cuDNN kernels since it doesn't meet the criteria. It will use a generic GPU kernel as fallback when running on GPU.\n",
            "WARNING:tensorflow:Layer lstm_1 will not use cuDNN kernels since it doesn't meet the criteria. It will use a generic GPU kernel as fallback when running on GPU.\n"
          ]
        },
        {
          "output_type": "stream",
          "name": "stdout",
          "text": [
            "Model: \"model\"\n",
            "__________________________________________________________________________________________________\n",
            " Layer (type)                   Output Shape         Param #     Connected to                     \n",
            "==================================================================================================\n",
            " embedding_input (InputLayer)   [(None, 681)]        0           []                               \n",
            "                                                                                                  \n",
            " embedding_1_input (InputLayer)  [(None, 681)]       0           []                               \n",
            "                                                                                                  \n",
            " embedding (Embedding)          (None, 681, 200)     15003400    ['embedding_input[0][0]']        \n",
            "                                                                                                  \n",
            " embedding_1 (Embedding)        (None, 681, 200)     15003400    ['embedding_1_input[0][0]']      \n",
            "                                                                                                  \n",
            " lstm (LSTM)                    (None, 128)          168448      ['embedding[0][0]']              \n",
            "                                                                                                  \n",
            " lstm_1 (LSTM)                  (None, 128)          168448      ['embedding_1[0][0]']            \n",
            "                                                                                                  \n",
            " lambda (Lambda)                (None, 1)            0           ['lstm[0][0]',                   \n",
            "                                                                  'lstm_1[0][0]']                 \n",
            "                                                                                                  \n",
            "==================================================================================================\n",
            "Total params: 30,343,696\n",
            "Trainable params: 30,343,696\n",
            "Non-trainable params: 0\n",
            "__________________________________________________________________________________________________\n"
          ]
        }
      ],
      "source": [
        "model = build_model(embedding_matrix)\n",
        "model.summary()"
      ]
    },
    {
      "cell_type": "code",
      "execution_count": null,
      "metadata": {
        "colab": {
          "base_uri": "https://localhost:8080/"
        },
        "id": "G6jUafZgWiub",
        "outputId": "5e5bc286-55df-42ee-bc29-fa38441cd7a0"
      },
      "outputs": [
        {
          "output_type": "stream",
          "name": "stdout",
          "text": [
            "Epoch 1/3\n",
            "2527/2527 [==============================] - 4257s 2s/step - loss: 0.2206 - accuracy: 0.6950 - precision: 0.6934 - recall: 0.3129 - val_loss: 0.1826 - val_accuracy: 0.7366 - val_precision: 0.7248 - val_recall: 0.4585\n",
            "Epoch 2/3\n",
            "2527/2527 [==============================] - 4196s 2s/step - loss: 0.1714 - accuracy: 0.7526 - precision: 0.7391 - recall: 0.5107 - val_loss: 0.1677 - val_accuracy: 0.7580 - val_precision: 0.7433 - val_recall: 0.5231\n",
            "Epoch 3/3\n",
            "2527/2527 [==============================] - 4212s 2s/step - loss: 0.1580 - accuracy: 0.7756 - precision: 0.7566 - recall: 0.5788 - val_loss: 0.1609 - val_accuracy: 0.7691 - val_precision: 0.7441 - val_recall: 0.5683\n"
          ]
        }
      ],
      "source": [
        "### Training the LSTM Model\n",
        "\n",
        "LSTM_model = model.fit([x_train1,x_train2],y_train, validation_data=([x_test1,x_test2], y_test), batch_size = 128, epochs = 3)"
      ]
    },
    {
      "cell_type": "code",
      "execution_count": null,
      "metadata": {
        "id": "qAH91KIPlwlh",
        "colab": {
          "base_uri": "https://localhost:8080/"
        },
        "outputId": "64e96c1e-cca4-4714-c74c-ca4167c733c1"
      },
      "outputs": [
        {
          "output_type": "stream",
          "name": "stdout",
          "text": [
            "2527/2527 [==============================] - 462s 183ms/step\n"
          ]
        }
      ],
      "source": [
        "### Prediting on test data for calculating performance metrics\n",
        "\n",
        "preds = model.predict([x_test1,x_test2])"
      ]
    },
    {
      "cell_type": "code",
      "source": [
        "## Converting probability values to 0,1\n",
        "preds_masked = np.where(preds > 0.5, 1, 0)"
      ],
      "metadata": {
        "id": "cQCDb4Z2RndD"
      },
      "execution_count": null,
      "outputs": []
    },
    {
      "cell_type": "code",
      "execution_count": null,
      "metadata": {
        "id": "vAP4_1cupYl6",
        "colab": {
          "base_uri": "https://localhost:8080/"
        },
        "outputId": "727e6441-f79e-4b39-fb2a-24e6bbf30204"
      },
      "outputs": [
        {
          "output_type": "stream",
          "name": "stdout",
          "text": [
            "              precision    recall  f1-score   support\n",
            "\n",
            "           0       0.78      0.89      0.83     51092\n",
            "           1       0.74      0.57      0.64     29764\n",
            "\n",
            "    accuracy                           0.77     80856\n",
            "   macro avg       0.76      0.73      0.74     80856\n",
            "weighted avg       0.77      0.77      0.76     80856\n",
            "\n"
          ]
        }
      ],
      "source": [
        "## Printing Results\n",
        "print(classification_report(y_test,preds_masked))"
      ]
    },
    {
      "cell_type": "code",
      "execution_count": null,
      "metadata": {
        "id": "e38xwkgcG0Bz",
        "colab": {
          "base_uri": "https://localhost:8080/",
          "height": 606
        },
        "outputId": "cdf99e5a-b2aa-4271-90c0-7dfe996e3dca"
      },
      "outputs": [
        {
          "output_type": "display_data",
          "data": {
            "text/plain": [
              "<Figure size 1080x1080 with 4 Axes>"
            ],
            "image/png": "[encoded data removed]"
          },
          "metadata": {
            "needs_background": "light"
          }
        }
      ],
      "source": [
        "### PLotting the training and validation scores across epochs. \n",
        "\n",
        "import matplotlib.pyplot as plt\n",
        "\n",
        "plt.figure(figsize=(15,15))\n",
        "\n",
        "plt.subplot(3,2,1)\n",
        "plt.plot(LSTM_model.history[\"val_accuracy\"], label=\"validation_accuracy\", c=\"red\", linewidth=4)\n",
        "plt.plot(LSTM_model.history[\"accuracy\"], label=\"training_accuracy\", c=\"green\", linewidth=4)\n",
        "plt.legend()\n",
        "plt.xlabel(\"Number of Epochs\")\n",
        "plt.ylabel(\"Accuracy\")\n",
        "plt.title(\"Accuracy\")\n",
        "plt.grid(True)\n",
        "\n",
        "plt.subplot(3,2,2)\n",
        "plt.plot(LSTM_model.history[\"val_loss\"], label=\"validation_loss\", c=\"red\", linewidth=4)\n",
        "plt.plot(LSTM_model.history[\"loss\"], label=\"training_loss\", c=\"green\", linewidth=4)\n",
        "plt.xlabel(\"Number of Epochs\")\n",
        "plt.ylabel(\"Loss\")\n",
        "plt.title(\"Loss\")\n",
        "plt.legend()\n",
        "plt.grid(True)\n",
        "\n",
        "\n",
        "plt.subplot(3,2,3)\n",
        "plt.plot(LSTM_model.history[\"val_precision\"], label=\"validation_precision\", c=\"red\", linewidth=4)\n",
        "plt.plot(LSTM_model.history[\"precision\"], label=\"training_precision\", c=\"green\", linewidth=4)\n",
        "plt.xlabel(\"Number of Epochs\")\n",
        "plt.ylabel(\"Precision\")\n",
        "plt.title(\"Precision\")\n",
        "plt.legend()\n",
        "plt.grid(True)\n",
        "\n",
        "\n",
        "plt.subplot(3,2,4)\n",
        "plt.plot(LSTM_model.history[\"val_recall\"], label=\"validation_recall\", c=\"red\", linewidth=4)\n",
        "plt.plot(LSTM_model.history[\"recall\"], label=\"training_recall\", c=\"green\", linewidth=4)\n",
        "plt.xlabel(\"Number of Epochs\")\n",
        "plt.ylabel(\"Recall\")\n",
        "plt.title(\"Recall\")\n",
        "plt.legend()\n",
        "plt.grid(True)\n",
        "\n",
        "\n",
        "plt.show()\n",
        "\n",
        "\n"
      ]
    },
    {
      "cell_type": "code",
      "execution_count": null,
      "metadata": {
        "id": "r-MCEmG1HDv0"
      },
      "outputs": [],
      "source": []
    }
  ],
  "metadata": {
    "accelerator": "GPU",
    "colab": {
      "machine_shape": "hm",
      "provenance": []
    },
    "gpuClass": "standard",
    "kernelspec": {
      "display_name": "Python 3 (ipykernel)",
      "language": "python",
      "name": "python3"
    },
    "language_info": {
      "codemirror_mode": {
        "name": "ipython",
        "version": 3
      },
      "file_extension": ".py",
      "mimetype": "text/x-python",
      "name": "python",
      "nbconvert_exporter": "python",
      "pygments_lexer": "ipython3",
      "version": "3.9.7"
    }
  },
  "nbformat": 4,
  "nbformat_minor": 0
}