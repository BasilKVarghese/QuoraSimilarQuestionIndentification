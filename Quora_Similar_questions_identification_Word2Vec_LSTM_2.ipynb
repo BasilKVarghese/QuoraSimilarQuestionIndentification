{
  "cells": [
    {
      "cell_type": "markdown",
      "metadata": {
        "id": "VChNQ4XjtRkq"
      },
      "source": [
        "### Loading Libraries"
      ]
    },
    {
      "cell_type": "code",
      "execution_count": null,
      "metadata": {
        "colab": {
          "base_uri": "https://localhost:8080/"
        },
        "id": "nLsUmByDdUdb",
        "outputId": "e602cde9-4e87-4db8-8052-8f0846ccdac5"
      },
      "outputs": [
        {
          "output_type": "stream",
          "name": "stdout",
          "text": [
            "Mounted at /content/drive\n"
          ]
        },
        {
          "output_type": "stream",
          "name": "stderr",
          "text": [
            "[nltk_data] Downloading package stopwords to /root/nltk_data...\n",
            "[nltk_data]   Unzipping corpora/stopwords.zip.\n",
            "[nltk_data] Downloading package wordnet to /root/nltk_data...\n",
            "[nltk_data] Downloading package omw-1.4 to /root/nltk_data...\n"
          ]
        }
      ],
      "source": [
        "import numpy as np\n",
        "import pandas as pd\n",
        "from google.colab import drive\n",
        "drive.mount('/content/drive')\n",
        "\n",
        "\n",
        "import sklearn\n",
        "from sklearn import preprocessing\n",
        "\n",
        "### NLP Libraries\n",
        "import string\n",
        "import re\n",
        "from nltk.tokenize import  word_tokenize \n",
        "import nltk\n",
        "from sklearn.metrics import precision_score, accuracy_score, recall_score, f1_score, classification_report\n",
        "nltk.download('stopwords')\n",
        "nltk.download('wordnet')\n",
        "nltk.download('omw-1.4')\n",
        "from nltk.corpus import stopwords\n",
        "stpwords = set(stopwords.words('english'))\n",
        "from nltk.stem import WordNetLemmatizer\n",
        "lemmatizer = WordNetLemmatizer()\n",
        "\n",
        "from sklearn.model_selection import train_test_split\n",
        "pd.options.display.max_colwidth = 500\n",
        "\n",
        "\n",
        "### Importing TensorFlow Libraries\n",
        "\n",
        "from tensorflow.keras.preprocessing.sequence import pad_sequences\n",
        "from tensorflow.keras.preprocessing.text import Tokenizer\n",
        "import tensorflow as tf\n",
        "from tensorflow.keras.layers import Dense, Embedding, LSTM, GRU , Flatten, Dropout, Bidirectional, Multiply, Lambda, BatchNormalization, concatenate, Input\n",
        "from tensorflow.keras import Model\n",
        "from tensorflow.keras.optimizers import Adam\n",
        "import keras.backend as K\n",
        "\n",
        "## Importing Word2Vec Embeddings\n",
        "\n",
        "import gensim\n",
        "from sklearn.naive_bayes import GaussianNB, MultinomialNB\n",
        "from gensim.models import KeyedVectors\n",
        "filename = '/content/drive/My Drive/GoogleNews-vectors-negative300.bin'\n",
        "w2v_dictionary = KeyedVectors.load_word2vec_format(filename, binary=True)\n",
        "\n",
        "# if glove file is on your google drive and you are running the notebook on colab, run this code below, else ignore\n",
        "\n",
        "\n",
        "### Importing Glove Embeddings\n",
        "#path = '/content/drive/My Drive/glove.6B.200d.txt'\n",
        "### Loading Glove vectors\n",
        "  # g_dictionary = {}\n",
        "  # with open(path) as file:\n",
        "  #   for each_line in file:\n",
        "  #       words_in_line, coeff_cients = each_line.split(maxsplit=1)\n",
        "  #       coeff_cients = np.array(coeff_cients.split(),dtype = float)\n",
        "  #       glove_dictionary[words_in_line] = coeff_cients\n"
      ]
    },
    {
      "cell_type": "code",
      "execution_count": null,
      "metadata": {
        "id": "XDkcrrt1XAqt"
      },
      "outputs": [],
      "source": [
        "# stpwords = {'a','about','again','ain','am',\n",
        "#  'and',\n",
        "#  'any',\n",
        "#  'as',\n",
        "#  'at',\n",
        "#  'be',\n",
        "#  'because',\n",
        "#  'been',\n",
        "#  'being',\n",
        "#  'both',\n",
        "#  'd',\n",
        "#  'each',\n",
        "#  'for',\n",
        "#  'from',\n",
        "#  'further',\n",
        "#  'he',\n",
        "#  'her',\n",
        "#  'here',\n",
        "#  'hers',\n",
        "#  'herself',\n",
        "#  'him',\n",
        "#  'himself',\n",
        "#  'his',\n",
        "#  'how',\n",
        "#  'i',\n",
        "#  'if',\n",
        "#  'in',\n",
        "#  'into',\n",
        "#  'just',\n",
        "#  'll',\n",
        "#  'm',\n",
        "#  'ma',\n",
        "#  'me',\n",
        "#  'my',\n",
        "#  'myself',\n",
        "#  'now',\n",
        "#  'o',\n",
        "#  'of',\n",
        "#  'off',\n",
        "#  'or',\n",
        "#  'other',\n",
        "#  'our',\n",
        "#  'ours',\n",
        "#  're',\n",
        "#  's',\n",
        "#  'she',\n",
        "#  \"she's\",\n",
        "#  'so',\n",
        "#  'such',\n",
        "#  't',\n",
        "#  'than',\n",
        "#  'that',\n",
        "#  \"that'll\",\n",
        "#  'the',\n",
        "#  'their',\n",
        "#  'theirs',\n",
        "#  'them',\n",
        "#  'themselves',\n",
        "#  'then',\n",
        "#  'there',\n",
        "#  'these',\n",
        "#  'they',\n",
        "#  'this',\n",
        "#  'those',\n",
        "#  'through',\n",
        "#  'to',\n",
        "#  'too',\n",
        "#  'under',\n",
        "#  'until',\n",
        "#  'up',\n",
        "#  've',\n",
        "#  'y',\n",
        "#  'you',\n",
        "#  \"you'd\",\n",
        "#  \"you'll\",\n",
        "#  \"you're\",\n",
        "#  \"you've\",\n",
        "#  'your',\n",
        "#  'yours',\n",
        "#  'yourself',\n",
        "#  'yourselves'}"
      ]
    },
    {
      "cell_type": "code",
      "execution_count": null,
      "metadata": {
        "id": "biOn-3Jt61oT"
      },
      "outputs": [],
      "source": [
        "def clean_message(text):\n",
        "    '''Function to clean and preprocess the input text'''\n",
        "    text = text.lower()\n",
        "    text = re.sub(\"'\", \"\", text) # to avoid removing contractions in english\n",
        "    text = re.sub(r'\\$\\w*', '', text)\n",
        "    text = re.sub(r'\\'s', '', text)\n",
        "    text = re.sub(\"@[A-Za-z0-9_]+\",\"\", text)\n",
        "    text = re.sub(\"#[A-Za-z0-9_]+\",\"\", text)\n",
        "    text = re.sub('[()!?,:\"]', '', text)\n",
        "    text = re.sub('the us','usa',text)\n",
        "    text = re.sub(\"[^a-z0-9]\",\" \", text)\n",
        "    text = \" \".join([word for word in text.split(' ') if word not in stpwords])\n",
        "    text = re.sub(' +', ' ',text)\n",
        "    text = text.strip()\n",
        "    #text = \" \".join([lemmatizer.lemmatize(word) for word in text.split(' ')])\n",
        "    return text\n",
        "        \n",
        "\n",
        "def clean_ques(text):\n",
        "  text = str(text)\n",
        "  text = text.lower()\n",
        "\n",
        "  #Clean the text\n",
        "  \n",
        "  return text        \n",
        "\n",
        "def exponent_neg_manhattan_distance(left, right):\n",
        "    return K.exp(-K.sum(K.abs(left-right), axis=1, keepdims=True))\n",
        "def exponent_neg_manhattan_distance_tf(left, right):\n",
        "    return tf.norm([left,right])\n",
        "\n",
        "def exponent_neg_euclidean_distance(left, right):\n",
        "    return tf.exp(-tf.sqrt(tf.reduce_sum(tf.square(left - right), axis=1, keepdims=True)))\n",
        "\n",
        "def exponent_neg_cosine_distance(vector1, vector2):\n",
        "  dot_product = tf.reduce_sum(tf.multiply(vector1, vector2), axis=1, keepdims=True)\n",
        "  magnitude = tf.multiply(tf.sqrt(tf.reduce_sum(tf.square(vector1), axis=1, keepdims=True)), \n",
        "                            tf.sqrt(tf.reduce_sum(tf.square(vector2), axis=1, keepdims=True)))\n",
        "  return tf.exp(-(1-tf.divide(dot_product, magnitude)))\n"
      ]
    },
    {
      "cell_type": "markdown",
      "metadata": {
        "id": "IUdE5mPdtVc0"
      },
      "source": [
        "### Loading Dataset"
      ]
    },
    {
      "cell_type": "code",
      "execution_count": null,
      "metadata": {
        "colab": {
          "base_uri": "https://localhost:8080/",
          "height": 320
        },
        "id": "dT-Ab3cOePmo",
        "outputId": "c96e6742-4a4f-4c04-a6d6-b114380f91cc"
      },
      "outputs": [
        {
          "output_type": "stream",
          "name": "stdout",
          "text": [
            "(404287, 6)\n"
          ]
        },
        {
          "output_type": "execute_result",
          "data": {
            "text/plain": [
              "   id  qid1  qid2  \\\n",
              "0   0     1     2   \n",
              "1   1     3     4   \n",
              "2   2     5     6   \n",
              "3   3     7     8   \n",
              "4   4     9    10   \n",
              "\n",
              "                                                                      question1  \\\n",
              "0            What is the step by step guide to invest in share market in india?   \n",
              "1                           What is the story of Kohinoor (Koh-i-Noor) Diamond?   \n",
              "2     How can I increase the speed of my internet connection while using a VPN?   \n",
              "3                            Why am I mentally very lonely? How can I solve it?   \n",
              "4  Which one dissolve in water quikly sugar, salt, methane and carbon di oxide?   \n",
              "\n",
              "                                                                                  question2  \\\n",
              "0                                 What is the step by step guide to invest in share market?   \n",
              "1  What would happen if the Indian government stole the Kohinoor (Koh-i-Noor) diamond back?   \n",
              "2                               How can Internet speed be increased by hacking through DNS?   \n",
              "3                         Find the remainder when [math]23^{24}[/math] is divided by 24,23?   \n",
              "4                                                   Which fish would survive in salt water?   \n",
              "\n",
              "   is_duplicate  \n",
              "0             0  \n",
              "1             0  \n",
              "2             0  \n",
              "3             0  \n",
              "4             0  "
            ],
            "text/html": [
              "\n",
              "  <div id=\"df-8ea582bc-ca17-4cbf-bcaa-09415d18b1af\">\n",
              "    <div class=\"colab-df-container\">\n",
              "      <div>\n",
              "<style scoped>\n",
              "    .dataframe tbody tr th:only-of-type {\n",
              "        vertical-align: middle;\n",
              "    }\n",
              "\n",
              "    .dataframe tbody tr th {\n",
              "        vertical-align: top;\n",
              "    }\n",
              "\n",
              "    .dataframe thead th {\n",
              "        text-align: right;\n",
              "    }\n",
              "</style>\n",
              "<table border=\"1\" class=\"dataframe\">\n",
              "  <thead>\n",
              "    <tr style=\"text-align: right;\">\n",
              "      <th></th>\n",
              "      <th>id</th>\n",
              "      <th>qid1</th>\n",
              "      <th>qid2</th>\n",
              "      <th>question1</th>\n",
              "      <th>question2</th>\n",
              "      <th>is_duplicate</th>\n",
              "    </tr>\n",
              "  </thead>\n",
              "  <tbody>\n",
              "    <tr>\n",
              "      <th>0</th>\n",
              "      <td>0</td>\n",
              "      <td>1</td>\n",
              "      <td>2</td>\n",
              "      <td>What is the step by step guide to invest in share market in india?</td>\n",
              "      <td>What is the step by step guide to invest in share market?</td>\n",
              "      <td>0</td>\n",
              "    </tr>\n",
              "    <tr>\n",
              "      <th>1</th>\n",
              "      <td>1</td>\n",
              "      <td>3</td>\n",
              "      <td>4</td>\n",
              "      <td>What is the story of Kohinoor (Koh-i-Noor) Diamond?</td>\n",
              "      <td>What would happen if the Indian government stole the Kohinoor (Koh-i-Noor) diamond back?</td>\n",
              "      <td>0</td>\n",
              "    </tr>\n",
              "    <tr>\n",
              "      <th>2</th>\n",
              "      <td>2</td>\n",
              "      <td>5</td>\n",
              "      <td>6</td>\n",
              "      <td>How can I increase the speed of my internet connection while using a VPN?</td>\n",
              "      <td>How can Internet speed be increased by hacking through DNS?</td>\n",
              "      <td>0</td>\n",
              "    </tr>\n",
              "    <tr>\n",
              "      <th>3</th>\n",
              "      <td>3</td>\n",
              "      <td>7</td>\n",
              "      <td>8</td>\n",
              "      <td>Why am I mentally very lonely? How can I solve it?</td>\n",
              "      <td>Find the remainder when [math]23^{24}[/math] is divided by 24,23?</td>\n",
              "      <td>0</td>\n",
              "    </tr>\n",
              "    <tr>\n",
              "      <th>4</th>\n",
              "      <td>4</td>\n",
              "      <td>9</td>\n",
              "      <td>10</td>\n",
              "      <td>Which one dissolve in water quikly sugar, salt, methane and carbon di oxide?</td>\n",
              "      <td>Which fish would survive in salt water?</td>\n",
              "      <td>0</td>\n",
              "    </tr>\n",
              "  </tbody>\n",
              "</table>\n",
              "</div>\n",
              "      <button class=\"colab-df-convert\" onclick=\"convertToInteractive('df-8ea582bc-ca17-4cbf-bcaa-09415d18b1af')\"\n",
              "              title=\"Convert this dataframe to an interactive table.\"\n",
              "              style=\"display:none;\">\n",
              "        \n",
              "  <svg xmlns=\"http://www.w3.org/2000/svg\" height=\"24px\"viewBox=\"0 0 24 24\"\n",
              "       width=\"24px\">\n",
              "    <path d=\"M0 0h24v24H0V0z\" fill=\"none\"/>\n",
              "    <path d=\"M18.56 5.44l.94 2.06.94-2.06 2.06-.94-2.06-.94-.94-2.06-.94 2.06-2.06.94zm-11 1L8.5 8.5l.94-2.06 2.06-.94-2.06-.94L8.5 2.5l-.94 2.06-2.06.94zm10 10l.94 2.06.94-2.06 2.06-.94-2.06-.94-.94-2.06-.94 2.06-2.06.94z\"/><path d=\"M17.41 7.96l-1.37-1.37c-.4-.4-.92-.59-1.43-.59-.52 0-1.04.2-1.43.59L10.3 9.45l-7.72 7.72c-.78.78-.78 2.05 0 2.83L4 21.41c.39.39.9.59 1.41.59.51 0 1.02-.2 1.41-.59l7.78-7.78 2.81-2.81c.8-.78.8-2.07 0-2.86zM5.41 20L4 18.59l7.72-7.72 1.47 1.35L5.41 20z\"/>\n",
              "  </svg>\n",
              "      </button>\n",
              "      \n",
              "  <style>\n",
              "    .colab-df-container {\n",
              "      display:flex;\n",
              "      flex-wrap:wrap;\n",
              "      gap: 12px;\n",
              "    }\n",
              "\n",
              "    .colab-df-convert {\n",
              "      background-color: #E8F0FE;\n",
              "      border: none;\n",
              "      border-radius: 50%;\n",
              "      cursor: pointer;\n",
              "      display: none;\n",
              "      fill: #1967D2;\n",
              "      height: 32px;\n",
              "      padding: 0 0 0 0;\n",
              "      width: 32px;\n",
              "    }\n",
              "\n",
              "    .colab-df-convert:hover {\n",
              "      background-color: #E2EBFA;\n",
              "      box-shadow: 0px 1px 2px rgba(60, 64, 67, 0.3), 0px 1px 3px 1px rgba(60, 64, 67, 0.15);\n",
              "      fill: #174EA6;\n",
              "    }\n",
              "\n",
              "    [theme=dark] .colab-df-convert {\n",
              "      background-color: #3B4455;\n",
              "      fill: #D2E3FC;\n",
              "    }\n",
              "\n",
              "    [theme=dark] .colab-df-convert:hover {\n",
              "      background-color: #434B5C;\n",
              "      box-shadow: 0px 1px 3px 1px rgba(0, 0, 0, 0.15);\n",
              "      filter: drop-shadow(0px 1px 2px rgba(0, 0, 0, 0.3));\n",
              "      fill: #FFFFFF;\n",
              "    }\n",
              "  </style>\n",
              "\n",
              "      <script>\n",
              "        const buttonEl =\n",
              "          document.querySelector('#df-8ea582bc-ca17-4cbf-bcaa-09415d18b1af button.colab-df-convert');\n",
              "        buttonEl.style.display =\n",
              "          google.colab.kernel.accessAllowed ? 'block' : 'none';\n",
              "\n",
              "        async function convertToInteractive(key) {\n",
              "          const element = document.querySelector('#df-8ea582bc-ca17-4cbf-bcaa-09415d18b1af');\n",
              "          const dataTable =\n",
              "            await google.colab.kernel.invokeFunction('convertToInteractive',\n",
              "                                                     [key], {});\n",
              "          if (!dataTable) return;\n",
              "\n",
              "          const docLinkHtml = 'Like what you see? Visit the ' +\n",
              "            '<a target=\"_blank\" href=https://colab.research.google.com/notebooks/data_table.ipynb>data table notebook</a>'\n",
              "            + ' to learn more about interactive tables.';\n",
              "          element.innerHTML = '';\n",
              "          dataTable['output_type'] = 'display_data';\n",
              "          await google.colab.output.renderOutput(dataTable, element);\n",
              "          const docLink = document.createElement('div');\n",
              "          docLink.innerHTML = docLinkHtml;\n",
              "          element.appendChild(docLink);\n",
              "        }\n",
              "      </script>\n",
              "    </div>\n",
              "  </div>\n",
              "  "
            ]
          },
          "metadata": {},
          "execution_count": 4
        }
      ],
      "source": [
        "### Importing Dataset\n",
        "\n",
        "data_org = pd.read_csv(\"/content/drive/MyDrive/Colab Notebooks/Capstone Quora Question Pairs/train.csv\")\n",
        "data_org = data_org.dropna()\n",
        "print(data_org.shape)\n",
        "data_org.head()"
      ]
    },
    {
      "cell_type": "code",
      "execution_count": null,
      "metadata": {
        "colab": {
          "base_uri": "https://localhost:8080/"
        },
        "id": "Hllbcd-Dsdct",
        "outputId": "f48d06a8-0b94-4568-a6f0-7cfb768ed102"
      },
      "outputs": [
        {
          "output_type": "execute_result",
          "data": {
            "text/plain": [
              "(404287, 6)"
            ]
          },
          "metadata": {},
          "execution_count": 14
        }
      ],
      "source": [
        "#data = data_org.sample(50000,random_state = 10)\n",
        "data = data_org.copy()\n",
        "data.shape"
      ]
    },
    {
      "cell_type": "code",
      "execution_count": null,
      "metadata": {
        "colab": {
          "base_uri": "https://localhost:8080/"
        },
        "id": "L1U1vBy7Fp_V",
        "outputId": "f6f5d1fb-1552-4cae-f4a1-8cde63292b09"
      },
      "outputs": [
        {
          "output_type": "execute_result",
          "data": {
            "text/plain": [
              "0    255024\n",
              "1    149263\n",
              "Name: is_duplicate, dtype: int64"
            ]
          },
          "metadata": {},
          "execution_count": 15
        }
      ],
      "source": [
        "data['is_duplicate'].value_counts()"
      ]
    },
    {
      "cell_type": "code",
      "execution_count": null,
      "metadata": {
        "id": "qEoMcMH0scID"
      },
      "outputs": [],
      "source": [
        "\n",
        "### Cleaning Question 1 and Question 2\n",
        "data['question1'] = data['question1'].apply(clean_message)\n",
        "data['question2'] = data['question2'].apply(clean_message)"
      ]
    },
    {
      "cell_type": "code",
      "execution_count": null,
      "metadata": {
        "id": "_Tr2cO3tnWy9"
      },
      "outputs": [],
      "source": [
        "### Getting a count of the number of unique words in the dataset\n",
        "\n",
        "# temp = list(data['question1'].str.split(' ', expand=True).stack().unique())\n",
        "# temp.extend(list(data['question2'].str.split(' ', expand=True).stack().unique()))\n",
        "# len(set(temp)) #max words"
      ]
    },
    {
      "cell_type": "code",
      "execution_count": null,
      "metadata": {
        "colab": {
          "base_uri": "https://localhost:8080/"
        },
        "id": "11QcjVCLan_a",
        "outputId": "2f482463-d8ea-4357-e53a-c62d9dfab582"
      },
      "outputs": [
        {
          "output_type": "stream",
          "name": "stdout",
          "text": [
            "\n",
            "### CLEANING DATASET ###\n",
            "Shape of dataset after cleaning (404287, 6)\n",
            "\n",
            "### TRAIN - TEST SPLIT ###\n",
            "Shape of x_train1 (323429,)\n",
            "Shape of x_test1 (80858,)\n",
            "Shape of x_train2 (323429,)\n",
            "Shape of x_test2 (80858,)\n",
            "Shape of y_train (323429,)\n",
            "Shape of x_test (80858,)\n"
          ]
        }
      ],
      "source": [
        "### Preprocessing the Dataset\n",
        "\n",
        "#max_words = len(set(temp))\n",
        "print(\"\\n### CLEANING DATASET ###\")\n",
        "\n",
        "print('Shape of dataset after cleaning', data.shape)\n",
        "\n",
        "print(\"\\n### TRAIN - TEST SPLIT ###\")\n",
        "\n",
        "x1 = data['question1']\n",
        "x2 = data['question2']\n",
        "y = data['is_duplicate']\n",
        "\n",
        "x_train1, x_test1, y_train, y_test = train_test_split(x1,y,test_size=0.2, random_state=100)\n",
        "x_train2, x_test2, y_train, y_test = train_test_split(x2,y,test_size=0.2, random_state=100)\n",
        "\n",
        "print('Shape of x_train1',x_train1.shape)\n",
        "print('Shape of x_test1',x_test1.shape)\n",
        "print('Shape of x_train2',x_train1.shape)\n",
        "print('Shape of x_test2',x_test1.shape)\n",
        "print('Shape of y_train',y_train.shape)\n",
        "print('Shape of x_test',y_test.shape)"
      ]
    },
    {
      "cell_type": "code",
      "execution_count": null,
      "metadata": {
        "id": "RRuVSU177BYs"
      },
      "outputs": [],
      "source": [
        "### Deleting temporary variables to clear memory\n",
        "temp = None\n",
        "x1 = None\n",
        "x2 = None\n",
        "y = None"
      ]
    },
    {
      "cell_type": "code",
      "execution_count": null,
      "metadata": {
        "colab": {
          "base_uri": "https://localhost:8080/"
        },
        "id": "3avGNQgI9XnU",
        "outputId": "200c9bf1-ea9d-48ae-ec8c-e0b785876638"
      },
      "outputs": [
        {
          "output_type": "stream",
          "name": "stdout",
          "text": [
            "\n",
            "### EMBEDDING TEXTS ###\n",
            "679\n",
            "\n",
            " ### Shape after embeddings ###\n",
            "Shape of x_train1 (323429, 679)\n",
            "Shape of x_test1 (80858, 679)\n",
            "Shape of x_train2 (323429, 679)\n",
            "Shape of x_test2 (80858, 679)\n",
            "Shape of y_train (323429,)\n",
            "Shape of x_test (80858,)\n"
          ]
        }
      ],
      "source": [
        "## Embedding, tokenizing and padding the texts\n",
        "\n",
        "print(\"\\n### EMBEDDING TEXTS ###\")\n",
        "# Max number of words in each question\n",
        "max_seq = max(max(x_train1.apply(lambda x:len(x))),max(x_train2.apply(lambda x:len(x))))\n",
        "print(max_seq)\n",
        "\n",
        "max_words = 20000\n",
        "\n",
        "### Tokenizing\n",
        "tokenizer = Tokenizer(num_words=max_words,oov_token=\"<OOV>\")\n",
        "tokenizer.fit_on_texts(list(x_train1.values.astype(str))+list(x_train2.values.astype(str)))\n",
        "word_index = tokenizer.word_index\n",
        "\n",
        "### Converting Texts to sequences\n",
        "vocabulary = list(word_index.keys())\n",
        "x_train1 = tokenizer.texts_to_sequences(x_train1)\n",
        "x_test1 = tokenizer.texts_to_sequences(x_test1)\n",
        "x_train1 = pad_sequences(x_train1, maxlen = max_seq)\n",
        "x_test1 = pad_sequences(x_test1, maxlen = max_seq)\n",
        "\n",
        "x_train2 = tokenizer.texts_to_sequences(x_train2)\n",
        "x_test2 = tokenizer.texts_to_sequences(x_test2)\n",
        "x_train2 = pad_sequences(x_train2, maxlen = max_seq)\n",
        "x_test2 = pad_sequences(x_test2, maxlen = max_seq)\n",
        "\n",
        "### Creating embedding matrix\n",
        "embedding_matrix = np.zeros((len(vocabulary), 300))\n",
        "\n",
        "for word,index in word_index.items():\n",
        "    try: \n",
        "        embedding_matrix[index,:] = w2v_dictionary[word]\n",
        "    except:\n",
        "        pass\n",
        "\n",
        "\n",
        "\n",
        "print(\"\\n ### Shape after embeddings ###\")\n",
        "\n",
        "print('Shape of x_train1',np.array(x_train1).shape)\n",
        "print('Shape of x_test1',np.array(x_test1).shape)\n",
        "print('Shape of x_train2',np.array(x_train2).shape)\n",
        "print('Shape of x_test2',np.array(x_test2).shape)\n",
        "print('Shape of y_train',np.array(y_train).shape)\n",
        "print('Shape of x_test',np.array(y_test).shape)\n",
        "\n"
      ]
    },
    {
      "cell_type": "code",
      "execution_count": null,
      "metadata": {
        "id": "AQ3tpn64C0cK"
      },
      "outputs": [],
      "source": [
        "# import pickle\n",
        "# with open('quora_question_pairs_w2v_tokenizer.pkl', 'wb') as fp:\n",
        "#         pickle.dump(tokenizer, fp)\n",
        "# fp.close()\n",
        "# with open('quora_question_pairs_w2v_embedding_matrix.pkl', 'wb') as fp:\n",
        "#         pickle.dump(embedding_matrix, fp)\n",
        "# fp.close()"
      ]
    },
    {
      "cell_type": "code",
      "execution_count": null,
      "metadata": {
        "colab": {
          "base_uri": "https://localhost:8080/"
        },
        "id": "fZRuWY7g_IuB",
        "outputId": "59008366-4df1-4795-bf9c-6c45119ef80b"
      },
      "outputs": [
        {
          "output_type": "stream",
          "name": "stdout",
          "text": [
            "Epoch 1/20\n",
            "632/632 [==============================] - ETA: 0s - loss: 0.8059 - accuracy: 0.7248 - precision: 0.6522 - recall: 0.5457\n",
            "Epoch 1: accuracy improved from -inf to 0.72483, saving model to best_model.h5\n",
            "632/632 [==============================] - 117s 180ms/step - loss: 0.8059 - accuracy: 0.7248 - precision: 0.6522 - recall: 0.5457 - val_loss: 0.7740 - val_accuracy: 0.7536 - val_precision: 0.7028 - val_recall: 0.5765\n",
            "Epoch 2/20\n",
            "632/632 [==============================] - ETA: 0s - loss: 0.7580 - accuracy: 0.7654 - precision: 0.7184 - recall: 0.5994\n",
            "Epoch 2: accuracy improved from 0.72483 to 0.76535, saving model to best_model.h5\n",
            "632/632 [==============================] - 115s 182ms/step - loss: 0.7580 - accuracy: 0.7654 - precision: 0.7184 - recall: 0.5994 - val_loss: 0.7542 - val_accuracy: 0.7684 - val_precision: 0.7233 - val_recall: 0.6039\n",
            "Epoch 3/20\n",
            "632/632 [==============================] - ETA: 0s - loss: 0.7400 - accuracy: 0.7783 - precision: 0.7335 - recall: 0.6274\n",
            "Epoch 3: accuracy improved from 0.76535 to 0.77827, saving model to best_model.h5\n",
            "632/632 [==============================] - 115s 182ms/step - loss: 0.7400 - accuracy: 0.7783 - precision: 0.7335 - recall: 0.6274 - val_loss: 0.7434 - val_accuracy: 0.7764 - val_precision: 0.7275 - val_recall: 0.6306\n",
            "Epoch 4/20\n",
            "632/632 [==============================] - ETA: 0s - loss: 0.7283 - accuracy: 0.7857 - precision: 0.7429 - recall: 0.6417\n",
            "Epoch 4: accuracy improved from 0.77827 to 0.78573, saving model to best_model.h5\n",
            "632/632 [==============================] - 115s 182ms/step - loss: 0.7283 - accuracy: 0.7857 - precision: 0.7429 - recall: 0.6417 - val_loss: 0.7361 - val_accuracy: 0.7791 - val_precision: 0.7390 - val_recall: 0.6213\n",
            "Epoch 5/20\n",
            "632/632 [==============================] - ETA: 0s - loss: 0.7196 - accuracy: 0.7909 - precision: 0.7485 - recall: 0.6531\n",
            "Epoch 5: accuracy improved from 0.78573 to 0.79093, saving model to best_model.h5\n",
            "632/632 [==============================] - 115s 182ms/step - loss: 0.7196 - accuracy: 0.7909 - precision: 0.7485 - recall: 0.6531 - val_loss: 0.7297 - val_accuracy: 0.7855 - val_precision: 0.7389 - val_recall: 0.6482\n",
            "Epoch 6/20\n",
            "632/632 [==============================] - ETA: 0s - loss: 0.7119 - accuracy: 0.7958 - precision: 0.7546 - recall: 0.6625\n",
            "Epoch 6: accuracy improved from 0.79093 to 0.79583, saving model to best_model.h5\n",
            "632/632 [==============================] - 115s 182ms/step - loss: 0.7119 - accuracy: 0.7958 - precision: 0.7546 - recall: 0.6625 - val_loss: 0.7256 - val_accuracy: 0.7886 - val_precision: 0.7432 - val_recall: 0.6531\n",
            "Epoch 7/20\n",
            "632/632 [==============================] - ETA: 0s - loss: 0.7061 - accuracy: 0.7996 - precision: 0.7586 - recall: 0.6705\n",
            "Epoch 7: accuracy improved from 0.79583 to 0.79958, saving model to best_model.h5\n",
            "632/632 [==============================] - 115s 182ms/step - loss: 0.7061 - accuracy: 0.7996 - precision: 0.7586 - recall: 0.6705 - val_loss: 0.7224 - val_accuracy: 0.7911 - val_precision: 0.7438 - val_recall: 0.6624\n",
            "Epoch 8/20\n",
            "632/632 [==============================] - ETA: 0s - loss: 0.7002 - accuracy: 0.8028 - precision: 0.7627 - recall: 0.6762\n",
            "Epoch 8: accuracy improved from 0.79958 to 0.80277, saving model to best_model.h5\n",
            "632/632 [==============================] - 115s 182ms/step - loss: 0.7002 - accuracy: 0.8028 - precision: 0.7627 - recall: 0.6762 - val_loss: 0.7193 - val_accuracy: 0.7920 - val_precision: 0.7494 - val_recall: 0.6561\n",
            "Epoch 9/20\n",
            "632/632 [==============================] - ETA: 0s - loss: 0.6954 - accuracy: 0.8057 - precision: 0.7663 - recall: 0.6816\n",
            "Epoch 9: accuracy improved from 0.80277 to 0.80570, saving model to best_model.h5\n",
            "632/632 [==============================] - 115s 182ms/step - loss: 0.6954 - accuracy: 0.8057 - precision: 0.7663 - recall: 0.6816 - val_loss: 0.7191 - val_accuracy: 0.7897 - val_precision: 0.7582 - val_recall: 0.6319\n",
            "Epoch 10/20\n",
            "632/632 [==============================] - ETA: 0s - loss: 0.6909 - accuracy: 0.8085 - precision: 0.7696 - recall: 0.6870\n",
            "Epoch 10: accuracy improved from 0.80570 to 0.80851, saving model to best_model.h5\n",
            "632/632 [==============================] - 115s 182ms/step - loss: 0.6909 - accuracy: 0.8085 - precision: 0.7696 - recall: 0.6870 - val_loss: 0.7145 - val_accuracy: 0.7965 - val_precision: 0.7474 - val_recall: 0.6779\n",
            "Epoch 11/20\n",
            "632/632 [==============================] - ETA: 0s - loss: 0.6872 - accuracy: 0.8107 - precision: 0.7725 - recall: 0.6909\n",
            "Epoch 11: accuracy improved from 0.80851 to 0.81075, saving model to best_model.h5\n",
            "632/632 [==============================] - 115s 182ms/step - loss: 0.6872 - accuracy: 0.8107 - precision: 0.7725 - recall: 0.6909 - val_loss: 0.7128 - val_accuracy: 0.7981 - val_precision: 0.7466 - val_recall: 0.6863\n",
            "Epoch 12/20\n",
            "632/632 [==============================] - ETA: 0s - loss: 0.6834 - accuracy: 0.8129 - precision: 0.7745 - recall: 0.6959\n",
            "Epoch 12: accuracy improved from 0.81075 to 0.81293, saving model to best_model.h5\n",
            "632/632 [==============================] - 115s 182ms/step - loss: 0.6834 - accuracy: 0.8129 - precision: 0.7745 - recall: 0.6959 - val_loss: 0.7108 - val_accuracy: 0.7983 - val_precision: 0.7511 - val_recall: 0.6786\n",
            "Epoch 13/20\n",
            "632/632 [==============================] - ETA: 0s - loss: 0.6798 - accuracy: 0.8150 - precision: 0.7777 - recall: 0.6986\n",
            "Epoch 13: accuracy improved from 0.81293 to 0.81500, saving model to best_model.h5\n",
            "632/632 [==============================] - 115s 182ms/step - loss: 0.6798 - accuracy: 0.8150 - precision: 0.7777 - recall: 0.6986 - val_loss: 0.7103 - val_accuracy: 0.7997 - val_precision: 0.7465 - val_recall: 0.6930\n",
            "Epoch 14/20\n",
            "632/632 [==============================] - ETA: 0s - loss: 0.6767 - accuracy: 0.8162 - precision: 0.7789 - recall: 0.7013\n",
            "Epoch 14: accuracy improved from 0.81500 to 0.81622, saving model to best_model.h5\n",
            "632/632 [==============================] - 115s 182ms/step - loss: 0.6767 - accuracy: 0.8162 - precision: 0.7789 - recall: 0.7013 - val_loss: 0.7109 - val_accuracy: 0.7976 - val_precision: 0.7550 - val_recall: 0.6688\n",
            "Epoch 15/20\n",
            "632/632 [==============================] - ETA: 0s - loss: 0.6741 - accuracy: 0.8176 - precision: 0.7803 - recall: 0.7042\n",
            "Epoch 15: accuracy improved from 0.81622 to 0.81757, saving model to best_model.h5\n",
            "632/632 [==============================] - 115s 182ms/step - loss: 0.6741 - accuracy: 0.8176 - precision: 0.7803 - recall: 0.7042 - val_loss: 0.7080 - val_accuracy: 0.8004 - val_precision: 0.7531 - val_recall: 0.6836\n",
            "Epoch 16/20\n",
            "632/632 [==============================] - ETA: 0s - loss: 0.6705 - accuracy: 0.8197 - precision: 0.7833 - recall: 0.7073\n",
            "Epoch 16: accuracy improved from 0.81757 to 0.81970, saving model to best_model.h5\n",
            "632/632 [==============================] - 115s 182ms/step - loss: 0.6705 - accuracy: 0.8197 - precision: 0.7833 - recall: 0.7073 - val_loss: 0.7085 - val_accuracy: 0.7982 - val_precision: 0.7623 - val_recall: 0.6588\n",
            "Epoch 17/20\n",
            "632/632 [==============================] - ETA: 0s - loss: 0.6678 - accuracy: 0.8211 - precision: 0.7846 - recall: 0.7104\n",
            "Epoch 17: accuracy improved from 0.81970 to 0.82109, saving model to best_model.h5\n",
            "632/632 [==============================] - 115s 182ms/step - loss: 0.6678 - accuracy: 0.8211 - precision: 0.7846 - recall: 0.7104 - val_loss: 0.7074 - val_accuracy: 0.8004 - val_precision: 0.7557 - val_recall: 0.6790\n",
            "Epoch 18/20\n",
            "632/632 [==============================] - ETA: 0s - loss: 0.6682 - accuracy: 0.8214 - precision: 0.7846 - recall: 0.7114\n",
            "Epoch 18: accuracy improved from 0.82109 to 0.82136, saving model to best_model.h5\n",
            "632/632 [==============================] - 115s 182ms/step - loss: 0.6682 - accuracy: 0.8214 - precision: 0.7846 - recall: 0.7114 - val_loss: 0.7065 - val_accuracy: 0.8006 - val_precision: 0.7578 - val_recall: 0.6761\n",
            "Epoch 19/20\n",
            "632/632 [==============================] - ETA: 0s - loss: 0.6648 - accuracy: 0.8233 - precision: 0.7879 - recall: 0.7134\n",
            "Epoch 19: accuracy improved from 0.82136 to 0.82328, saving model to best_model.h5\n",
            "632/632 [==============================] - 115s 181ms/step - loss: 0.6648 - accuracy: 0.8233 - precision: 0.7879 - recall: 0.7134 - val_loss: 0.7070 - val_accuracy: 0.7989 - val_precision: 0.7592 - val_recall: 0.6670\n",
            "Epoch 20/20\n",
            "632/632 [==============================] - ETA: 0s - loss: 0.6615 - accuracy: 0.8247 - precision: 0.7897 - recall: 0.7157\n",
            "Epoch 20: accuracy improved from 0.82328 to 0.82469, saving model to best_model.h5\n",
            "632/632 [==============================] - 114s 180ms/step - loss: 0.6615 - accuracy: 0.8247 - precision: 0.7897 - recall: 0.7157 - val_loss: 0.7052 - val_accuracy: 0.8009 - val_precision: 0.7581 - val_recall: 0.6768\n"
          ]
        }
      ],
      "source": [
        "input_shape = (max_seq,)\n",
        "input_q1 = Input(shape=input_shape)\n",
        "input_q2 = Input(shape=input_shape)\n",
        "\n",
        "embedding_size = 300 # Set the embedding size\n",
        "lstm_units = 64 # Set the number of LSTM units\n",
        "\n",
        "embedding_layer = Embedding(input_dim=len(tokenizer.word_index),\n",
        "                            output_dim=embedding_size,\n",
        "                            weights=[embedding_matrix],\n",
        "                            input_length=max_seq,\n",
        "                            trainable=False)\n",
        "\n",
        "lstm_layer = LSTM(units=lstm_units)\n",
        "\n",
        "q1_encoded = lstm_layer(embedding_layer(input_q1))\n",
        "q2_encoded = lstm_layer(embedding_layer(input_q2))\n",
        "malstm_distance = Lambda(function=lambda x: exponent_neg_euclidean_distance(x[0], x[1]),output_shape=lambda x: (x[0][0], 1))([q1_encoded, q2_encoded])\n",
        "\n",
        "#merged = concatenate([q1_encoded, q2_encoded], axis=-1)\n",
        "#merged = Dropout(0.2)(merged)\n",
        "#merged = Dense(units=128, activation='relu')(merged)\n",
        "#merged = Dropout(0.2)(merged)\n",
        "#merged = Dense(units=64, activation='relu')(merged)\n",
        "#merged = Dropout(0.2)(merged)\n",
        "#merged = Dense(units=1, activation='sigmoid')(merged)\n",
        "\n",
        "siamese_model = Model(inputs=[input_q1, input_q2], outputs=malstm_distance)\n",
        "\n",
        "siamese_model.compile(loss='binary_crossentropy', optimizer='adam', metrics=['accuracy','Precision','Recall'])\n",
        "\n",
        "from tensorflow.keras.callbacks import ModelCheckpoint\n",
        "\n",
        "# define the checkpoint filepath\n",
        "checkpoint_filepath = 'best_model.h5'\n",
        "\n",
        "# create a ModelCheckpoint callback to save the best model\n",
        "checkpoint_callback = ModelCheckpoint(filepath=checkpoint_filepath, \n",
        "                                      save_best_only=True, \n",
        "                                      monitor='accuracy', \n",
        "                                      mode='max', \n",
        "                                      verbose=1)\n",
        "\n",
        "# Train the Siamese Neural Network model\n",
        "history = siamese_model.fit([x_train1, x_train2], y_train,\n",
        "                            validation_data=([x_test1, x_test2], y_test),\n",
        "                            epochs=20, batch_size=512, verbose=1,callbacks=[checkpoint_callback])"
      ]
    },
    {
      "cell_type": "code",
      "execution_count": null,
      "metadata": {
        "colab": {
          "base_uri": "https://localhost:8080/"
        },
        "id": "qAH91KIPlwlh",
        "outputId": "6a62c2c4-1d66-41c9-91d3-abe656946845"
      },
      "outputs": [
        {
          "output_type": "stream",
          "name": "stdout",
          "text": [
            "2527/2527 [==============================] - 39s 15ms/step\n"
          ]
        }
      ],
      "source": [
        "### Prediting on test data for calculating performance metrics\n",
        "\n",
        "preds = siamese_model.predict([x_test1,x_test2])"
      ]
    },
    {
      "cell_type": "code",
      "execution_count": null,
      "metadata": {
        "colab": {
          "base_uri": "https://localhost:8080/"
        },
        "id": "vAP4_1cupYl6",
        "outputId": "bbf8a49d-bfeb-4d36-e215-715240ebed82"
      },
      "outputs": [
        {
          "output_type": "stream",
          "name": "stdout",
          "text": [
            "              precision    recall  f1-score   support\n",
            "\n",
            "           0       0.82      0.87      0.85     51001\n",
            "           1       0.76      0.68      0.72     29857\n",
            "\n",
            "    accuracy                           0.80     80858\n",
            "   macro avg       0.79      0.78      0.78     80858\n",
            "weighted avg       0.80      0.80      0.80     80858\n",
            "\n"
          ]
        }
      ],
      "source": [
        "## Converting probability values to 0,1\n",
        "preds_masked = np.where(preds >= 0.5, 1, 0)\n",
        "## Printing Results\n",
        "print(classification_report(y_test,preds_masked))"
      ]
    },
    {
      "cell_type": "code",
      "execution_count": null,
      "metadata": {
        "colab": {
          "base_uri": "https://localhost:8080/",
          "height": 849
        },
        "id": "e38xwkgcG0Bz",
        "outputId": "67b1e38d-0d75-4b69-b7dd-5935de111dc7"
      },
      "outputs": [
        {
          "output_type": "display_data",
          "data": {
            "text/plain": [
              "<Figure size 1500x1500 with 4 Axes>"
            ],
            "image/png": "[encoded data removed]"
          },
          "metadata": {}
        }
      ],
      "source": [
        "### PLotting the training and validation scores across epochs. \n",
        "\n",
        "import matplotlib.pyplot as plt\n",
        "\n",
        "plt.figure(figsize=(15,15))\n",
        "\n",
        "plt.subplot(3,2,1)\n",
        "plt.plot(history.history[\"val_accuracy\"], label=\"validation_accuracy\", c=\"red\", linewidth=4)\n",
        "plt.plot(history.history[\"accuracy\"], label=\"training_accuracy\", c=\"green\", linewidth=4)\n",
        "plt.legend()\n",
        "plt.xlabel(\"Number of Epochs\")\n",
        "plt.ylabel(\"Accuracy\")\n",
        "plt.title(\"Accuracy\")\n",
        "plt.grid(True)\n",
        "\n",
        "plt.subplot(3,2,2)\n",
        "plt.plot(history.history[\"val_loss\"], label=\"validation_loss\", c=\"red\", linewidth=4)\n",
        "plt.plot(history.history[\"loss\"], label=\"training_loss\", c=\"green\", linewidth=4)\n",
        "plt.xlabel(\"Number of Epochs\")\n",
        "plt.ylabel(\"Loss\")\n",
        "plt.title(\"Loss\")\n",
        "plt.legend()\n",
        "plt.grid(True)\n",
        "\n",
        "\n",
        "plt.subplot(3,2,3)\n",
        "plt.plot(history.history[\"val_precision\"], label=\"validation_precision\", c=\"red\", linewidth=4)\n",
        "plt.plot(history.history[\"precision\"], label=\"training_precision\", c=\"green\", linewidth=4)\n",
        "plt.xlabel(\"Number of Epochs\")\n",
        "plt.ylabel(\"Precision\")\n",
        "plt.title(\"Precision\")\n",
        "plt.legend()\n",
        "plt.grid(True)\n",
        "\n",
        "\n",
        "plt.subplot(3,2,4)\n",
        "plt.plot(history.history[\"val_recall\"], label=\"validation_recall\", c=\"red\", linewidth=4)\n",
        "plt.plot(history.history[\"recall\"], label=\"training_recall\", c=\"green\", linewidth=4)\n",
        "plt.xlabel(\"Number of Epochs\")\n",
        "plt.ylabel(\"Recall\")\n",
        "plt.title(\"Recall\")\n",
        "plt.legend()\n",
        "plt.grid(True)\n",
        "\n",
        "\n",
        "plt.show()\n",
        "\n",
        "\n"
      ]
    },
    {
      "cell_type": "code",
      "execution_count": null,
      "metadata": {
        "id": "r-MCEmG1HDv0"
      },
      "outputs": [],
      "source": [
        "import pickle"
      ]
    },
    {
      "cell_type": "code",
      "source": [
        "with open('quora_question_pairs_w2v_tokenizer_2.pkl', 'wb') as fp:\n",
        "        pickle.dump(tokenizer, fp)\n",
        "fp.close()\n",
        "#with open('quora_question_pairs_w2v_embedding_matrix.pkl', 'wb') as fp:\n",
        " #       pickle.dump(embedding_matrix, fp)\n",
        "#fp.close()"
      ],
      "metadata": {
        "id": "Ezf2wkxS1eJ4"
      },
      "execution_count": null,
      "outputs": []
    },
    {
      "cell_type": "code",
      "execution_count": null,
      "metadata": {
        "id": "QIz4xSeI_nXX"
      },
      "outputs": [],
      "source": [
        "import pickle\n",
        "with open('quora_question_pairs_w2v_lstm_2.pkl', 'wb') as fp:\n",
        "        pickle.dump(siamese_model, fp)"
      ]
    },
    {
      "cell_type": "code",
      "execution_count": null,
      "metadata": {
        "colab": {
          "base_uri": "https://localhost:8080/",
          "height": 35
        },
        "id": "hvhCpXl6AOVI",
        "outputId": "d9416bd5-ea15-4f17-b00e-bd4a594da467"
      },
      "outputs": [
        {
          "output_type": "execute_result",
          "data": {
            "text/plain": [
              "'/content/drive/MyDrive/quora_question_pairs_w2v_lstm_2.pkl'"
            ],
            "application/vnd.google.colaboratory.intrinsic+json": {
              "type": "string"
            }
          },
          "metadata": {},
          "execution_count": 28
        }
      ],
      "source": [
        "import shutil\n",
        "colab_link = \"/content/quora_question_pairs_w2v_lstm_2.pkl\"\n",
        "gdrive_link = \"/content/drive/MyDrive/\"\n",
        "shutil.copy(colab_link, gdrive_link)"
      ]
    },
    {
      "cell_type": "code",
      "execution_count": null,
      "metadata": {
        "colab": {
          "base_uri": "https://localhost:8080/",
          "height": 35
        },
        "id": "uscxrpltAenc",
        "outputId": "372caae6-3333-4fe1-bdb9-524d24a51b15"
      },
      "outputs": [
        {
          "output_type": "execute_result",
          "data": {
            "text/plain": [
              "'/content/drive/MyDrive/quora_question_pairs_w2v_tokenizer_2.pkl'"
            ],
            "application/vnd.google.colaboratory.intrinsic+json": {
              "type": "string"
            }
          },
          "metadata": {},
          "execution_count": 29
        }
      ],
      "source": [
        "\n",
        "colab_link = \"/content/quora_question_pairs_w2v_tokenizer_2.pkl\"\n",
        "gdrive_link = \"/content/drive/MyDrive/\"\n",
        "shutil.copy(colab_link, gdrive_link)\n",
        "\n",
        "# colab_link = \"/content/quora_question_pairs_w2v_embedding_matrix.pkl\"\n",
        "# gdrive_link = \"/content/drive/MyDrive/\"\n",
        "# shutil.copy(colab_link, gdrive_link)"
      ]
    },
    {
      "cell_type": "code",
      "execution_count": null,
      "metadata": {
        "id": "CthJ9YpvD_3T"
      },
      "outputs": [],
      "source": []
    }
  ],
  "metadata": {
    "accelerator": "GPU",
    "colab": {
      "machine_shape": "hm",
      "provenance": []
    },
    "gpuClass": "standard",
    "kernelspec": {
      "display_name": "Python 3 (ipykernel)",
      "language": "python",
      "name": "python3"
    },
    "language_info": {
      "codemirror_mode": {
        "name": "ipython",
        "version": 3
      },
      "file_extension": ".py",
      "mimetype": "text/x-python",
      "name": "python",
      "nbconvert_exporter": "python",
      "pygments_lexer": "ipython3",
      "version": "3.9.7"
    }
  },
  "nbformat": 4,
  "nbformat_minor": 0
}