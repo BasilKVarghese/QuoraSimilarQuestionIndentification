{
  "cells": [
    {
      "cell_type": "markdown",
      "metadata": {
        "id": "view-in-github",
        "colab_type": "text"
      },
      "source": [
        "<a href=\"https://colab.research.google.com/github/BasilKVarghese/QuoraSimilarQuestionIndentification/blob/main/Quora_Similar_questions_identification_Glove_GRU.ipynb\" target=\"_parent\"><img src=\"https://colab.research.google.com/assets/colab-badge.svg\" alt=\"Open In Colab\"/></a>"
      ]
    },
    {
      "cell_type": "markdown",
      "metadata": {
        "id": "VChNQ4XjtRkq"
      },
      "source": [
        "### Loading Libraries"
      ]
    },
    {
      "cell_type": "code",
      "execution_count": null,
      "metadata": {
        "colab": {
          "base_uri": "https://localhost:8080/"
        },
        "id": "nLsUmByDdUdb",
        "outputId": "63a540d0-2057-4c6b-e866-19d8d313c519"
      },
      "outputs": [
        {
          "output_type": "stream",
          "name": "stdout",
          "text": [
            "Drive already mounted at /content/drive; to attempt to forcibly remount, call drive.mount(\"/content/drive\", force_remount=True).\n"
          ]
        },
        {
          "output_type": "stream",
          "name": "stderr",
          "text": [
            "[nltk_data] Downloading package stopwords to /root/nltk_data...\n",
            "[nltk_data]   Package stopwords is already up-to-date!\n",
            "[nltk_data] Downloading package wordnet to /root/nltk_data...\n",
            "[nltk_data]   Package wordnet is already up-to-date!\n",
            "[nltk_data] Downloading package omw-1.4 to /root/nltk_data...\n",
            "[nltk_data]   Package omw-1.4 is already up-to-date!\n"
          ]
        }
      ],
      "source": [
        "import numpy as np\n",
        "import pandas as pd\n",
        "from google.colab import drive\n",
        "drive.mount('/content/drive')\n",
        "\n",
        "\n",
        "import sklearn\n",
        "from sklearn import preprocessing\n",
        "\n",
        "### NLP Libraries\n",
        "import string\n",
        "import re\n",
        "from nltk.tokenize import  word_tokenize \n",
        "import nltk\n",
        "from sklearn.metrics import precision_score, accuracy_score, recall_score, f1_score, classification_report\n",
        "nltk.download('stopwords')\n",
        "nltk.download('wordnet')\n",
        "nltk.download('omw-1.4')\n",
        "from nltk.corpus import stopwords\n",
        "stpwords = set(stopwords.words('english'))\n",
        "from nltk.stem import WordNetLemmatizer\n",
        "lemmatizer = WordNetLemmatizer()\n",
        "\n",
        "from sklearn.model_selection import train_test_split\n",
        "pd.options.display.max_colwidth = 500\n",
        "\n",
        "\n",
        "### Importing TensorFlow Libraries\n",
        "\n",
        "from tensorflow.keras.preprocessing.sequence import pad_sequences\n",
        "from tensorflow.keras.preprocessing.text import Tokenizer\n",
        "import tensorflow as tf\n",
        "from tensorflow.keras.layers import Dense, Embedding, LSTM, GRU , Flatten, Dropout, Bidirectional, Multiply, Lambda, BatchNormalization, concatenate, Input\n",
        "from tensorflow.keras import Model\n",
        "from tensorflow.keras.optimizers import Adam\n",
        "import keras.backend as K\n",
        "\n",
        "## Importing Word2Vec Embeddings\n",
        "\n",
        "# import gensim\n",
        "# from sklearn.naive_bayes import GaussianNB, MultinomialNB\n",
        "# from gensim.models import KeyedVectors\n",
        "# filename = '/content/drive/My Drive/GoogleNews-vectors-negative300.bin'\n",
        "# w2v_dictionary = KeyedVectors.load_word2vec_format(filename, binary=True)\n",
        "\n",
        "# if glove file is on your google drive and you are running the notebook on colab, run this code below, else ignore\n",
        "\n",
        "\n",
        "## Importing Glove Embeddings\n",
        "path = '/content/drive/My Drive/glove.6B.200d.txt'\n",
        "## Loading Glove vectors\n",
        "glove_dictionary = {}\n",
        "with open(path) as file:\n",
        "  for each_line in file:\n",
        "      words_in_line, coeff_cients = each_line.split(maxsplit=1)\n",
        "      coeff_cients = np.array(coeff_cients.split(),dtype = float)\n",
        "      glove_dictionary[words_in_line] = coeff_cients\n"
      ]
    },
    {
      "cell_type": "code",
      "execution_count": null,
      "metadata": {
        "id": "XDkcrrt1XAqt"
      },
      "outputs": [],
      "source": [
        "# stpwords = {'a','about','again','ain','am',\n",
        "#  'and',\n",
        "#  'any',\n",
        "#  'as',\n",
        "#  'at',\n",
        "#  'be',\n",
        "#  'because',\n",
        "#  'been',\n",
        "#  'being',\n",
        "#  'both',\n",
        "#  'd',\n",
        "#  'each',\n",
        "#  'for',\n",
        "#  'from',\n",
        "#  'further',\n",
        "#  'he',\n",
        "#  'her',\n",
        "#  'here',\n",
        "#  'hers',\n",
        "#  'herself',\n",
        "#  'him',\n",
        "#  'himself',\n",
        "#  'his',\n",
        "#  'how',\n",
        "#  'i',\n",
        "#  'if',\n",
        "#  'in',\n",
        "#  'into',\n",
        "#  'just',\n",
        "#  'll',\n",
        "#  'm',\n",
        "#  'ma',\n",
        "#  'me',\n",
        "#  'my',\n",
        "#  'myself',\n",
        "#  'now',\n",
        "#  'o',\n",
        "#  'of',\n",
        "#  'off',\n",
        "#  'or',\n",
        "#  'other',\n",
        "#  'our',\n",
        "#  'ours',\n",
        "#  're',\n",
        "#  's',\n",
        "#  'she',\n",
        "#  \"she's\",\n",
        "#  'so',\n",
        "#  'such',\n",
        "#  't',\n",
        "#  'than',\n",
        "#  'that',\n",
        "#  \"that'll\",\n",
        "#  'the',\n",
        "#  'their',\n",
        "#  'theirs',\n",
        "#  'them',\n",
        "#  'themselves',\n",
        "#  'then',\n",
        "#  'there',\n",
        "#  'these',\n",
        "#  'they',\n",
        "#  'this',\n",
        "#  'those',\n",
        "#  'through',\n",
        "#  'to',\n",
        "#  'too',\n",
        "#  'under',\n",
        "#  'until',\n",
        "#  'up',\n",
        "#  've',\n",
        "#  'y',\n",
        "#  'you',\n",
        "#  \"you'd\",\n",
        "#  \"you'll\",\n",
        "#  \"you're\",\n",
        "#  \"you've\",\n",
        "#  'your',\n",
        "#  'yours',\n",
        "#  'yourself',\n",
        "#  'yourselves'}"
      ]
    },
    {
      "cell_type": "code",
      "execution_count": null,
      "metadata": {
        "id": "biOn-3Jt61oT"
      },
      "outputs": [],
      "source": [
        "def clean_message(text):\n",
        "    '''Function to clean and preprocess the input text'''\n",
        "    text = text.lower()\n",
        "    text = re.sub(\"'\", \"\", text) # to avoid removing contractions in english\n",
        "    text = re.sub(r'\\$\\w*', '', text)\n",
        "    text = re.sub(r'\\'s', '', text)\n",
        "    text = re.sub(\"@[A-Za-z0-9_]+\",\"\", text)\n",
        "    text = re.sub(\"#[A-Za-z0-9_]+\",\"\", text)\n",
        "    text = re.sub('[()!?,:\"]', '', text)\n",
        "    text = re.sub('the us','usa',text)\n",
        "    text = re.sub(\"[^a-z0-9]\",\" \", text)\n",
        "    text = \" \".join([word for word in text.split(' ') if word not in stpwords])\n",
        "    text = re.sub(' +', ' ',text)\n",
        "    text = text.strip()\n",
        "    #text = \" \".join([lemmatizer.lemmatize(word) for word in text.split(' ')])\n",
        "    return text\n",
        "        \n",
        "\n",
        "def clean_ques(text):\n",
        "  text = str(text)\n",
        "  text = text.lower()\n",
        "\n",
        "  #Clean the text\n",
        "  \n",
        "  return text        \n",
        "\n",
        "def exponent_neg_manhattan_distance(left, right):\n",
        "    return K.exp(-K.sum(K.abs(left-right), axis=1, keepdims=True))\n",
        "def exponent_neg_manhattan_distance_tf(left, right):\n",
        "    return tf.norm([left,right])\n",
        "\n",
        "def exponent_neg_euclidean_distance(left, right):\n",
        "    return tf.exp(-tf.sqrt(tf.reduce_sum(tf.square(left - right), axis=1, keepdims=True)))\n",
        "\n",
        "def exponent_neg_cosine_distance(vector1, vector2):\n",
        "  dot_product = tf.reduce_sum(tf.multiply(vector1, vector2), axis=1, keepdims=True)\n",
        "  magnitude = tf.multiply(tf.sqrt(tf.reduce_sum(tf.square(vector1), axis=1, keepdims=True)), \n",
        "                            tf.sqrt(tf.reduce_sum(tf.square(vector2), axis=1, keepdims=True)))\n",
        "  return tf.exp(-(1-tf.divide(dot_product, magnitude)))\n"
      ]
    },
    {
      "cell_type": "markdown",
      "metadata": {
        "id": "IUdE5mPdtVc0"
      },
      "source": [
        "### Loading Dataset"
      ]
    },
    {
      "cell_type": "code",
      "execution_count": null,
      "metadata": {
        "colab": {
          "base_uri": "https://localhost:8080/",
          "height": 320
        },
        "id": "dT-Ab3cOePmo",
        "outputId": "0742b6f8-5ac2-4ff2-d8e5-eed31a0f71d2"
      },
      "outputs": [
        {
          "output_type": "stream",
          "name": "stdout",
          "text": [
            "(404287, 6)\n"
          ]
        },
        {
          "output_type": "execute_result",
          "data": {
            "text/plain": [
              "   id  qid1  qid2  \\\n",
              "0   0     1     2   \n",
              "1   1     3     4   \n",
              "2   2     5     6   \n",
              "3   3     7     8   \n",
              "4   4     9    10   \n",
              "\n",
              "                                                                      question1  \\\n",
              "0            What is the step by step guide to invest in share market in india?   \n",
              "1                           What is the story of Kohinoor (Koh-i-Noor) Diamond?   \n",
              "2     How can I increase the speed of my internet connection while using a VPN?   \n",
              "3                            Why am I mentally very lonely? How can I solve it?   \n",
              "4  Which one dissolve in water quikly sugar, salt, methane and carbon di oxide?   \n",
              "\n",
              "                                                                                  question2  \\\n",
              "0                                 What is the step by step guide to invest in share market?   \n",
              "1  What would happen if the Indian government stole the Kohinoor (Koh-i-Noor) diamond back?   \n",
              "2                               How can Internet speed be increased by hacking through DNS?   \n",
              "3                         Find the remainder when [math]23^{24}[/math] is divided by 24,23?   \n",
              "4                                                   Which fish would survive in salt water?   \n",
              "\n",
              "   is_duplicate  \n",
              "0             0  \n",
              "1             0  \n",
              "2             0  \n",
              "3             0  \n",
              "4             0  "
            ],
            "text/html": [
              "\n",
              "  <div id=\"df-18ecb39a-5e93-4155-843e-e48cf220a7f7\">\n",
              "    <div class=\"colab-df-container\">\n",
              "      <div>\n",
              "<style scoped>\n",
              "    .dataframe tbody tr th:only-of-type {\n",
              "        vertical-align: middle;\n",
              "    }\n",
              "\n",
              "    .dataframe tbody tr th {\n",
              "        vertical-align: top;\n",
              "    }\n",
              "\n",
              "    .dataframe thead th {\n",
              "        text-align: right;\n",
              "    }\n",
              "</style>\n",
              "<table border=\"1\" class=\"dataframe\">\n",
              "  <thead>\n",
              "    <tr style=\"text-align: right;\">\n",
              "      <th></th>\n",
              "      <th>id</th>\n",
              "      <th>qid1</th>\n",
              "      <th>qid2</th>\n",
              "      <th>question1</th>\n",
              "      <th>question2</th>\n",
              "      <th>is_duplicate</th>\n",
              "    </tr>\n",
              "  </thead>\n",
              "  <tbody>\n",
              "    <tr>\n",
              "      <th>0</th>\n",
              "      <td>0</td>\n",
              "      <td>1</td>\n",
              "      <td>2</td>\n",
              "      <td>What is the step by step guide to invest in share market in india?</td>\n",
              "      <td>What is the step by step guide to invest in share market?</td>\n",
              "      <td>0</td>\n",
              "    </tr>\n",
              "    <tr>\n",
              "      <th>1</th>\n",
              "      <td>1</td>\n",
              "      <td>3</td>\n",
              "      <td>4</td>\n",
              "      <td>What is the story of Kohinoor (Koh-i-Noor) Diamond?</td>\n",
              "      <td>What would happen if the Indian government stole the Kohinoor (Koh-i-Noor) diamond back?</td>\n",
              "      <td>0</td>\n",
              "    </tr>\n",
              "    <tr>\n",
              "      <th>2</th>\n",
              "      <td>2</td>\n",
              "      <td>5</td>\n",
              "      <td>6</td>\n",
              "      <td>How can I increase the speed of my internet connection while using a VPN?</td>\n",
              "      <td>How can Internet speed be increased by hacking through DNS?</td>\n",
              "      <td>0</td>\n",
              "    </tr>\n",
              "    <tr>\n",
              "      <th>3</th>\n",
              "      <td>3</td>\n",
              "      <td>7</td>\n",
              "      <td>8</td>\n",
              "      <td>Why am I mentally very lonely? How can I solve it?</td>\n",
              "      <td>Find the remainder when [math]23^{24}[/math] is divided by 24,23?</td>\n",
              "      <td>0</td>\n",
              "    </tr>\n",
              "    <tr>\n",
              "      <th>4</th>\n",
              "      <td>4</td>\n",
              "      <td>9</td>\n",
              "      <td>10</td>\n",
              "      <td>Which one dissolve in water quikly sugar, salt, methane and carbon di oxide?</td>\n",
              "      <td>Which fish would survive in salt water?</td>\n",
              "      <td>0</td>\n",
              "    </tr>\n",
              "  </tbody>\n",
              "</table>\n",
              "</div>\n",
              "      <button class=\"colab-df-convert\" onclick=\"convertToInteractive('df-18ecb39a-5e93-4155-843e-e48cf220a7f7')\"\n",
              "              title=\"Convert this dataframe to an interactive table.\"\n",
              "              style=\"display:none;\">\n",
              "        \n",
              "  <svg xmlns=\"http://www.w3.org/2000/svg\" height=\"24px\"viewBox=\"0 0 24 24\"\n",
              "       width=\"24px\">\n",
              "    <path d=\"M0 0h24v24H0V0z\" fill=\"none\"/>\n",
              "    <path d=\"M18.56 5.44l.94 2.06.94-2.06 2.06-.94-2.06-.94-.94-2.06-.94 2.06-2.06.94zm-11 1L8.5 8.5l.94-2.06 2.06-.94-2.06-.94L8.5 2.5l-.94 2.06-2.06.94zm10 10l.94 2.06.94-2.06 2.06-.94-2.06-.94-.94-2.06-.94 2.06-2.06.94z\"/><path d=\"M17.41 7.96l-1.37-1.37c-.4-.4-.92-.59-1.43-.59-.52 0-1.04.2-1.43.59L10.3 9.45l-7.72 7.72c-.78.78-.78 2.05 0 2.83L4 21.41c.39.39.9.59 1.41.59.51 0 1.02-.2 1.41-.59l7.78-7.78 2.81-2.81c.8-.78.8-2.07 0-2.86zM5.41 20L4 18.59l7.72-7.72 1.47 1.35L5.41 20z\"/>\n",
              "  </svg>\n",
              "      </button>\n",
              "      \n",
              "  <style>\n",
              "    .colab-df-container {\n",
              "      display:flex;\n",
              "      flex-wrap:wrap;\n",
              "      gap: 12px;\n",
              "    }\n",
              "\n",
              "    .colab-df-convert {\n",
              "      background-color: #E8F0FE;\n",
              "      border: none;\n",
              "      border-radius: 50%;\n",
              "      cursor: pointer;\n",
              "      display: none;\n",
              "      fill: #1967D2;\n",
              "      height: 32px;\n",
              "      padding: 0 0 0 0;\n",
              "      width: 32px;\n",
              "    }\n",
              "\n",
              "    .colab-df-convert:hover {\n",
              "      background-color: #E2EBFA;\n",
              "      box-shadow: 0px 1px 2px rgba(60, 64, 67, 0.3), 0px 1px 3px 1px rgba(60, 64, 67, 0.15);\n",
              "      fill: #174EA6;\n",
              "    }\n",
              "\n",
              "    [theme=dark] .colab-df-convert {\n",
              "      background-color: #3B4455;\n",
              "      fill: #D2E3FC;\n",
              "    }\n",
              "\n",
              "    [theme=dark] .colab-df-convert:hover {\n",
              "      background-color: #434B5C;\n",
              "      box-shadow: 0px 1px 3px 1px rgba(0, 0, 0, 0.15);\n",
              "      filter: drop-shadow(0px 1px 2px rgba(0, 0, 0, 0.3));\n",
              "      fill: #FFFFFF;\n",
              "    }\n",
              "  </style>\n",
              "\n",
              "      <script>\n",
              "        const buttonEl =\n",
              "          document.querySelector('#df-18ecb39a-5e93-4155-843e-e48cf220a7f7 button.colab-df-convert');\n",
              "        buttonEl.style.display =\n",
              "          google.colab.kernel.accessAllowed ? 'block' : 'none';\n",
              "\n",
              "        async function convertToInteractive(key) {\n",
              "          const element = document.querySelector('#df-18ecb39a-5e93-4155-843e-e48cf220a7f7');\n",
              "          const dataTable =\n",
              "            await google.colab.kernel.invokeFunction('convertToInteractive',\n",
              "                                                     [key], {});\n",
              "          if (!dataTable) return;\n",
              "\n",
              "          const docLinkHtml = 'Like what you see? Visit the ' +\n",
              "            '<a target=\"_blank\" href=https://colab.research.google.com/notebooks/data_table.ipynb>data table notebook</a>'\n",
              "            + ' to learn more about interactive tables.';\n",
              "          element.innerHTML = '';\n",
              "          dataTable['output_type'] = 'display_data';\n",
              "          await google.colab.output.renderOutput(dataTable, element);\n",
              "          const docLink = document.createElement('div');\n",
              "          docLink.innerHTML = docLinkHtml;\n",
              "          element.appendChild(docLink);\n",
              "        }\n",
              "      </script>\n",
              "    </div>\n",
              "  </div>\n",
              "  "
            ]
          },
          "metadata": {},
          "execution_count": 29
        }
      ],
      "source": [
        "### Importing Dataset\n",
        "\n",
        "data_org = pd.read_csv(\"/content/drive/MyDrive/Colab Notebooks/Capstone Quora Question Pairs/train.csv\")\n",
        "data_org = data_org.dropna()\n",
        "print(data_org.shape)\n",
        "data_org.head()"
      ]
    },
    {
      "cell_type": "code",
      "execution_count": null,
      "metadata": {
        "colab": {
          "base_uri": "https://localhost:8080/"
        },
        "id": "Hllbcd-Dsdct",
        "outputId": "1bcaa60f-36e8-4aa3-dce9-429d1e1f2ff5"
      },
      "outputs": [
        {
          "output_type": "execute_result",
          "data": {
            "text/plain": [
              "(404287, 6)"
            ]
          },
          "metadata": {},
          "execution_count": 30
        }
      ],
      "source": [
        "#data = data_org.sample(50000,random_state = 10)\n",
        "data = data_org.copy()\n",
        "data.shape"
      ]
    },
    {
      "cell_type": "code",
      "execution_count": null,
      "metadata": {
        "colab": {
          "base_uri": "https://localhost:8080/"
        },
        "id": "L1U1vBy7Fp_V",
        "outputId": "df491605-92d7-4e5f-f8b2-4cc720a55115"
      },
      "outputs": [
        {
          "output_type": "execute_result",
          "data": {
            "text/plain": [
              "0    255024\n",
              "1    149263\n",
              "Name: is_duplicate, dtype: int64"
            ]
          },
          "metadata": {},
          "execution_count": 31
        }
      ],
      "source": [
        "data['is_duplicate'].value_counts()"
      ]
    },
    {
      "cell_type": "code",
      "execution_count": null,
      "metadata": {
        "id": "qEoMcMH0scID"
      },
      "outputs": [],
      "source": [
        "\n",
        "### Cleaning Question 1 and Question 2\n",
        "data['question1'] = data['question1'].apply(clean_message)\n",
        "data['question2'] = data['question2'].apply(clean_message)"
      ]
    },
    {
      "cell_type": "code",
      "execution_count": null,
      "metadata": {
        "id": "_Tr2cO3tnWy9"
      },
      "outputs": [],
      "source": [
        "### Getting a count of the number of unique words in the dataset\n",
        "\n",
        "# temp = list(data['question1'].str.split(' ', expand=True).stack().unique())\n",
        "# temp.extend(list(data['question2'].str.split(' ', expand=True).stack().unique()))\n",
        "# len(set(temp)) #max words"
      ]
    },
    {
      "cell_type": "code",
      "execution_count": null,
      "metadata": {
        "colab": {
          "base_uri": "https://localhost:8080/"
        },
        "id": "11QcjVCLan_a",
        "outputId": "7771df6e-a89f-4e2c-88ee-c9b67b435a21"
      },
      "outputs": [
        {
          "output_type": "stream",
          "name": "stdout",
          "text": [
            "\n",
            "### CLEANING DATASET ###\n",
            "Shape of dataset after cleaning (404287, 6)\n",
            "\n",
            "### TRAIN - TEST SPLIT ###\n",
            "Shape of x_train1 (323429,)\n",
            "Shape of x_test1 (80858,)\n",
            "Shape of x_train2 (323429,)\n",
            "Shape of x_test2 (80858,)\n",
            "Shape of y_train (323429,)\n",
            "Shape of x_test (80858,)\n"
          ]
        }
      ],
      "source": [
        "### Preprocessing the Dataset\n",
        "\n",
        "#max_words = len(set(temp))\n",
        "print(\"\\n### CLEANING DATASET ###\")\n",
        "\n",
        "print('Shape of dataset after cleaning', data.shape)\n",
        "\n",
        "print(\"\\n### TRAIN - TEST SPLIT ###\")\n",
        "\n",
        "x1 = data['question1']\n",
        "x2 = data['question2']\n",
        "y = data['is_duplicate']\n",
        "\n",
        "x_train1, x_test1, y_train, y_test = train_test_split(x1,y,test_size=0.2, random_state=100)\n",
        "x_train2, x_test2, y_train, y_test = train_test_split(x2,y,test_size=0.2, random_state=100)\n",
        "\n",
        "print('Shape of x_train1',x_train1.shape)\n",
        "print('Shape of x_test1',x_test1.shape)\n",
        "print('Shape of x_train2',x_train1.shape)\n",
        "print('Shape of x_test2',x_test1.shape)\n",
        "print('Shape of y_train',y_train.shape)\n",
        "print('Shape of x_test',y_test.shape)"
      ]
    },
    {
      "cell_type": "code",
      "execution_count": null,
      "metadata": {
        "id": "RRuVSU177BYs"
      },
      "outputs": [],
      "source": [
        "### Deleting temporary variables to clear memory\n",
        "temp = None\n",
        "x1 = None\n",
        "x2 = None\n",
        "y = None"
      ]
    },
    {
      "cell_type": "code",
      "execution_count": null,
      "metadata": {
        "colab": {
          "base_uri": "https://localhost:8080/"
        },
        "id": "3avGNQgI9XnU",
        "outputId": "a9a32df0-b448-4ea8-8c4c-7e8f70654818"
      },
      "outputs": [
        {
          "output_type": "stream",
          "name": "stdout",
          "text": [
            "\n",
            "### EMBEDDING TEXTS ###\n",
            "679\n",
            "\n",
            " ### Shape after embeddings ###\n",
            "Shape of x_train1 (323429, 679)\n",
            "Shape of x_test1 (80858, 679)\n",
            "Shape of x_train2 (323429, 679)\n",
            "Shape of x_test2 (80858, 679)\n",
            "Shape of y_train (323429,)\n",
            "Shape of x_test (80858,)\n"
          ]
        }
      ],
      "source": [
        "## Embedding, tokenizing and padding the texts\n",
        "\n",
        "print(\"\\n### EMBEDDING TEXTS ###\")\n",
        "# Max number of words in each question\n",
        "max_seq = max(max(x_train1.apply(lambda x:len(x))),max(x_train2.apply(lambda x:len(x))))\n",
        "print(max_seq)\n",
        "\n",
        "max_words = 30000\n",
        "\n",
        "### Tokenizing\n",
        "tokenizer = Tokenizer(num_words=max_words,oov_token=\"<OOV>\")\n",
        "tokenizer.fit_on_texts(list(x_train1.values.astype(str))+list(x_train2.values.astype(str)))\n",
        "word_index = tokenizer.word_index\n",
        "\n",
        "### Converting Texts to sequences\n",
        "vocabulary = list(word_index.keys())\n",
        "x_train1 = tokenizer.texts_to_sequences(x_train1)\n",
        "x_test1 = tokenizer.texts_to_sequences(x_test1)\n",
        "x_train1 = pad_sequences(x_train1, maxlen = max_seq)\n",
        "x_test1 = pad_sequences(x_test1, maxlen = max_seq)\n",
        "\n",
        "x_train2 = tokenizer.texts_to_sequences(x_train2)\n",
        "x_test2 = tokenizer.texts_to_sequences(x_test2)\n",
        "x_train2 = pad_sequences(x_train2, maxlen = max_seq)\n",
        "x_test2 = pad_sequences(x_test2, maxlen = max_seq)\n",
        "\n",
        "### Creating embedding matrix\n",
        "embedding_matrix = np.zeros((len(vocabulary), 200))\n",
        "\n",
        "for word,index in word_index.items():\n",
        "    try: \n",
        "        embedding_matrix[index,:] = glove_dictionary[word]\n",
        "    except:\n",
        "        pass\n",
        "\n",
        "\n",
        "\n",
        "print(\"\\n ### Shape after embeddings ###\")\n",
        "\n",
        "print('Shape of x_train1',np.array(x_train1).shape)\n",
        "print('Shape of x_test1',np.array(x_test1).shape)\n",
        "print('Shape of x_train2',np.array(x_train2).shape)\n",
        "print('Shape of x_test2',np.array(x_test2).shape)\n",
        "print('Shape of y_train',np.array(y_train).shape)\n",
        "print('Shape of x_test',np.array(y_test).shape)\n",
        "\n"
      ]
    },
    {
      "cell_type": "code",
      "execution_count": null,
      "metadata": {
        "id": "AQ3tpn64C0cK"
      },
      "outputs": [],
      "source": [
        "# import pickle\n",
        "# with open('quora_question_pairs_w2v_tokenizer.pkl', 'wb') as fp:\n",
        "#         pickle.dump(tokenizer, fp)\n",
        "# fp.close()\n",
        "# with open('quora_question_pairs_w2v_embedding_matrix.pkl', 'wb') as fp:\n",
        "#         pickle.dump(embedding_matrix, fp)\n",
        "# fp.close()"
      ]
    },
    {
      "cell_type": "code",
      "execution_count": null,
      "metadata": {
        "colab": {
          "base_uri": "https://localhost:8080/"
        },
        "id": "fZRuWY7g_IuB",
        "outputId": "a16de280-b0ef-41c7-bd2e-a7898b4fa3d7"
      },
      "outputs": [
        {
          "output_type": "stream",
          "name": "stdout",
          "text": [
            "Epoch 1/40\n",
            "316/316 [==============================] - ETA: 0s - loss: 0.7278 - accuracy: 0.7273 - precision: 0.6849 - recall: 0.4843\n",
            "Epoch 1: val_accuracy improved from -inf to 0.74215, saving model to best_model.h5\n",
            "316/316 [==============================] - 161s 499ms/step - loss: 0.7278 - accuracy: 0.7273 - precision: 0.6849 - recall: 0.4843 - val_loss: 0.7065 - val_accuracy: 0.7422 - val_precision: 0.7189 - val_recall: 0.4955\n",
            "Epoch 2/40\n",
            "316/316 [==============================] - ETA: 0s - loss: 0.6810 - accuracy: 0.7645 - precision: 0.7275 - recall: 0.5788\n",
            "Epoch 2: val_accuracy improved from 0.74215 to 0.76837, saving model to best_model.h5\n",
            "316/316 [==============================] - 160s 506ms/step - loss: 0.6810 - accuracy: 0.7645 - precision: 0.7275 - recall: 0.5788 - val_loss: 0.6832 - val_accuracy: 0.7684 - val_precision: 0.7319 - val_recall: 0.5881\n",
            "Epoch 3/40\n",
            "316/316 [==============================] - ETA: 0s - loss: 0.6627 - accuracy: 0.7788 - precision: 0.7420 - recall: 0.6145\n",
            "Epoch 3: val_accuracy improved from 0.76837 to 0.77979, saving model to best_model.h5\n",
            "316/316 [==============================] - 160s 506ms/step - loss: 0.6627 - accuracy: 0.7788 - precision: 0.7420 - recall: 0.6145 - val_loss: 0.6711 - val_accuracy: 0.7798 - val_precision: 0.7342 - val_recall: 0.6327\n",
            "Epoch 4/40\n",
            "316/316 [==============================] - ETA: 0s - loss: 0.6496 - accuracy: 0.7881 - precision: 0.7507 - recall: 0.6378\n",
            "Epoch 4: val_accuracy improved from 0.77979 to 0.78441, saving model to best_model.h5\n",
            "316/316 [==============================] - 160s 506ms/step - loss: 0.6496 - accuracy: 0.7881 - precision: 0.7507 - recall: 0.6378 - val_loss: 0.6639 - val_accuracy: 0.7844 - val_precision: 0.7375 - val_recall: 0.6461\n",
            "Epoch 5/40\n",
            "316/316 [==============================] - ETA: 0s - loss: 0.6397 - accuracy: 0.7949 - precision: 0.7576 - recall: 0.6537\n",
            "Epoch 5: val_accuracy improved from 0.78441 to 0.78546, saving model to best_model.h5\n",
            "316/316 [==============================] - 160s 505ms/step - loss: 0.6397 - accuracy: 0.7949 - precision: 0.7576 - recall: 0.6537 - val_loss: 0.6578 - val_accuracy: 0.7855 - val_precision: 0.7504 - val_recall: 0.6279\n",
            "Epoch 6/40\n",
            "316/316 [==============================] - ETA: 0s - loss: 0.6317 - accuracy: 0.7997 - precision: 0.7621 - recall: 0.6652\n",
            "Epoch 6: val_accuracy improved from 0.78546 to 0.78957, saving model to best_model.h5\n",
            "316/316 [==============================] - 160s 506ms/step - loss: 0.6317 - accuracy: 0.7997 - precision: 0.7621 - recall: 0.6652 - val_loss: 0.6526 - val_accuracy: 0.7896 - val_precision: 0.7532 - val_recall: 0.6398\n",
            "Epoch 7/40\n",
            "316/316 [==============================] - ETA: 0s - loss: 0.6253 - accuracy: 0.8033 - precision: 0.7664 - recall: 0.6722\n",
            "Epoch 7: val_accuracy improved from 0.78957 to 0.79528, saving model to best_model.h5\n",
            "316/316 [==============================] - 160s 506ms/step - loss: 0.6253 - accuracy: 0.8033 - precision: 0.7664 - recall: 0.6722 - val_loss: 0.6517 - val_accuracy: 0.7953 - val_precision: 0.7272 - val_recall: 0.7131\n",
            "Epoch 8/40\n",
            "316/316 [==============================] - ETA: 0s - loss: 0.6190 - accuracy: 0.8076 - precision: 0.7709 - recall: 0.6813\n",
            "Epoch 8: val_accuracy did not improve from 0.79528\n",
            "316/316 [==============================] - 160s 505ms/step - loss: 0.6190 - accuracy: 0.8076 - precision: 0.7709 - recall: 0.6813 - val_loss: 0.6460 - val_accuracy: 0.7946 - val_precision: 0.7539 - val_recall: 0.6587\n",
            "Epoch 9/40\n",
            "316/316 [==============================] - ETA: 0s - loss: 0.6139 - accuracy: 0.8103 - precision: 0.7737 - recall: 0.6872\n",
            "Epoch 9: val_accuracy improved from 0.79528 to 0.79693, saving model to best_model.h5\n",
            "316/316 [==============================] - 160s 505ms/step - loss: 0.6139 - accuracy: 0.8103 - precision: 0.7737 - recall: 0.6872 - val_loss: 0.6431 - val_accuracy: 0.7969 - val_precision: 0.7483 - val_recall: 0.6782\n",
            "Epoch 10/40\n",
            "316/316 [==============================] - ETA: 0s - loss: 0.6090 - accuracy: 0.8128 - precision: 0.7758 - recall: 0.6932\n",
            "Epoch 10: val_accuracy improved from 0.79693 to 0.79995, saving model to best_model.h5\n",
            "316/316 [==============================] - 160s 506ms/step - loss: 0.6090 - accuracy: 0.8128 - precision: 0.7758 - recall: 0.6932 - val_loss: 0.6402 - val_accuracy: 0.7999 - val_precision: 0.7494 - val_recall: 0.6884\n",
            "Epoch 11/40\n",
            "316/316 [==============================] - ETA: 0s - loss: 0.6047 - accuracy: 0.8156 - precision: 0.7789 - recall: 0.6990\n",
            "Epoch 11: val_accuracy did not improve from 0.79995\n",
            "316/316 [==============================] - 160s 506ms/step - loss: 0.6047 - accuracy: 0.8156 - precision: 0.7789 - recall: 0.6990 - val_loss: 0.6398 - val_accuracy: 0.7982 - val_precision: 0.7607 - val_recall: 0.6614\n",
            "Epoch 12/40\n",
            "316/316 [==============================] - ETA: 0s - loss: 0.6009 - accuracy: 0.8179 - precision: 0.7820 - recall: 0.7027\n",
            "Epoch 12: val_accuracy improved from 0.79995 to 0.80154, saving model to best_model.h5\n",
            "316/316 [==============================] - 160s 505ms/step - loss: 0.6009 - accuracy: 0.8179 - precision: 0.7820 - recall: 0.7027 - val_loss: 0.6370 - val_accuracy: 0.8015 - val_precision: 0.7541 - val_recall: 0.6863\n",
            "Epoch 13/40\n",
            "316/316 [==============================] - ETA: 0s - loss: 0.5968 - accuracy: 0.8199 - precision: 0.7831 - recall: 0.7085\n",
            "Epoch 13: val_accuracy improved from 0.80154 to 0.80330, saving model to best_model.h5\n",
            "316/316 [==============================] - 160s 505ms/step - loss: 0.5968 - accuracy: 0.8199 - precision: 0.7831 - recall: 0.7085 - val_loss: 0.6354 - val_accuracy: 0.8033 - val_precision: 0.7569 - val_recall: 0.6883\n",
            "Epoch 14/40\n",
            "316/316 [==============================] - ETA: 0s - loss: 0.6120 - accuracy: 0.8105 - precision: 0.7804 - recall: 0.6772\n",
            "Epoch 14: val_accuracy did not improve from 0.80330\n",
            "316/316 [==============================] - 160s 506ms/step - loss: 0.6120 - accuracy: 0.8105 - precision: 0.7804 - recall: 0.6772 - val_loss: 0.6422 - val_accuracy: 0.7977 - val_precision: 0.7595 - val_recall: 0.6617\n",
            "Epoch 15/40\n",
            "316/316 [==============================] - ETA: 0s - loss: 0.5985 - accuracy: 0.8193 - precision: 0.7852 - recall: 0.7027\n",
            "Epoch 15: val_accuracy did not improve from 0.80330\n",
            "316/316 [==============================] - 160s 506ms/step - loss: 0.5985 - accuracy: 0.8193 - precision: 0.7852 - recall: 0.7027 - val_loss: 0.6359 - val_accuracy: 0.8026 - val_precision: 0.7570 - val_recall: 0.6853\n",
            "Epoch 16/40\n",
            "316/316 [==============================] - ETA: 0s - loss: 0.5920 - accuracy: 0.8223 - precision: 0.7878 - recall: 0.7098\n",
            "Epoch 16: val_accuracy improved from 0.80330 to 0.80422, saving model to best_model.h5\n",
            "316/316 [==============================] - 160s 506ms/step - loss: 0.5920 - accuracy: 0.8223 - precision: 0.7878 - recall: 0.7098 - val_loss: 0.6338 - val_accuracy: 0.8042 - val_precision: 0.7521 - val_recall: 0.7009\n",
            "Epoch 17/40\n",
            "316/316 [==============================] - ETA: 0s - loss: 0.5887 - accuracy: 0.8246 - precision: 0.7899 - recall: 0.7151\n",
            "Epoch 17: val_accuracy did not improve from 0.80422\n",
            "316/316 [==============================] - 167s 530ms/step - loss: 0.5887 - accuracy: 0.8246 - precision: 0.7899 - recall: 0.7151 - val_loss: 0.6328 - val_accuracy: 0.8039 - val_precision: 0.7594 - val_recall: 0.6862\n",
            "Epoch 18/40\n",
            "316/316 [==============================] - ETA: 0s - loss: 0.5858 - accuracy: 0.8261 - precision: 0.7914 - recall: 0.7184\n",
            "Epoch 18: val_accuracy improved from 0.80422 to 0.80453, saving model to best_model.h5\n",
            "316/316 [==============================] - 160s 507ms/step - loss: 0.5858 - accuracy: 0.8261 - precision: 0.7914 - recall: 0.7184 - val_loss: 0.6329 - val_accuracy: 0.8045 - val_precision: 0.7623 - val_recall: 0.6839\n",
            "Epoch 19/40\n",
            "316/316 [==============================] - ETA: 0s - loss: 0.5835 - accuracy: 0.8273 - precision: 0.7926 - recall: 0.7210\n",
            "Epoch 19: val_accuracy improved from 0.80453 to 0.80554, saving model to best_model.h5\n",
            "316/316 [==============================] - 160s 506ms/step - loss: 0.5835 - accuracy: 0.8273 - precision: 0.7926 - recall: 0.7210 - val_loss: 0.6309 - val_accuracy: 0.8055 - val_precision: 0.7587 - val_recall: 0.6941\n",
            "Epoch 20/40\n",
            "316/316 [==============================] - ETA: 0s - loss: 0.5812 - accuracy: 0.8289 - precision: 0.7944 - recall: 0.7240\n",
            "Epoch 20: val_accuracy improved from 0.80554 to 0.80568, saving model to best_model.h5\n",
            "316/316 [==============================] - 160s 507ms/step - loss: 0.5812 - accuracy: 0.8289 - precision: 0.7944 - recall: 0.7240 - val_loss: 0.6309 - val_accuracy: 0.8057 - val_precision: 0.7639 - val_recall: 0.6856\n",
            "Epoch 21/40\n",
            "316/316 [==============================] - ETA: 0s - loss: 0.5791 - accuracy: 0.8300 - precision: 0.7953 - recall: 0.7267\n",
            "Epoch 21: val_accuracy did not improve from 0.80568\n",
            "316/316 [==============================] - 160s 506ms/step - loss: 0.5791 - accuracy: 0.8300 - precision: 0.7953 - recall: 0.7267 - val_loss: 0.6319 - val_accuracy: 0.8049 - val_precision: 0.7667 - val_recall: 0.6779\n",
            "Epoch 22/40\n",
            "316/316 [==============================] - ETA: 0s - loss: 0.5772 - accuracy: 0.8310 - precision: 0.7963 - recall: 0.7287\n",
            "Epoch 22: val_accuracy improved from 0.80568 to 0.80808, saving model to best_model.h5\n",
            "316/316 [==============================] - 160s 506ms/step - loss: 0.5772 - accuracy: 0.8310 - precision: 0.7963 - recall: 0.7287 - val_loss: 0.6289 - val_accuracy: 0.8081 - val_precision: 0.7566 - val_recall: 0.7080\n",
            "Epoch 23/40\n",
            "316/316 [==============================] - ETA: 0s - loss: 0.5755 - accuracy: 0.8320 - precision: 0.7976 - recall: 0.7303\n",
            "Epoch 23: val_accuracy did not improve from 0.80808\n",
            "316/316 [==============================] - 160s 506ms/step - loss: 0.5755 - accuracy: 0.8320 - precision: 0.7976 - recall: 0.7303 - val_loss: 0.6297 - val_accuracy: 0.8062 - val_precision: 0.7681 - val_recall: 0.6806\n",
            "Epoch 24/40\n",
            "316/316 [==============================] - ETA: 0s - loss: 0.5735 - accuracy: 0.8332 - precision: 0.7987 - recall: 0.7329\n",
            "Epoch 24: val_accuracy did not improve from 0.80808\n",
            "316/316 [==============================] - 160s 505ms/step - loss: 0.5735 - accuracy: 0.8332 - precision: 0.7987 - recall: 0.7329 - val_loss: 0.6297 - val_accuracy: 0.8071 - val_precision: 0.7659 - val_recall: 0.6878\n",
            "Epoch 25/40\n",
            "316/316 [==============================] - ETA: 0s - loss: 0.5715 - accuracy: 0.8344 - precision: 0.7996 - recall: 0.7361\n",
            "Epoch 25: val_accuracy improved from 0.80808 to 0.80813, saving model to best_model.h5\n",
            "316/316 [==============================] - 160s 506ms/step - loss: 0.5715 - accuracy: 0.8344 - precision: 0.7996 - recall: 0.7361 - val_loss: 0.6293 - val_accuracy: 0.8081 - val_precision: 0.7641 - val_recall: 0.6949\n",
            "Epoch 26/40\n",
            "316/316 [==============================] - ETA: 0s - loss: 0.5700 - accuracy: 0.8353 - precision: 0.8011 - recall: 0.7367\n",
            "Epoch 26: val_accuracy improved from 0.80813 to 0.80838, saving model to best_model.h5\n",
            "316/316 [==============================] - 160s 507ms/step - loss: 0.5700 - accuracy: 0.8353 - precision: 0.8011 - recall: 0.7367 - val_loss: 0.6279 - val_accuracy: 0.8084 - val_precision: 0.7590 - val_recall: 0.7050\n",
            "Epoch 27/40\n",
            "316/316 [==============================] - ETA: 0s - loss: 0.5679 - accuracy: 0.8364 - precision: 0.8021 - recall: 0.7392\n",
            "Epoch 27: val_accuracy improved from 0.80838 to 0.80902, saving model to best_model.h5\n",
            "316/316 [==============================] - 160s 506ms/step - loss: 0.5679 - accuracy: 0.8364 - precision: 0.8021 - recall: 0.7392 - val_loss: 0.6277 - val_accuracy: 0.8090 - val_precision: 0.7619 - val_recall: 0.7022\n",
            "Epoch 28/40\n",
            "316/316 [==============================] - ETA: 0s - loss: 0.5665 - accuracy: 0.8374 - precision: 0.8027 - recall: 0.7420\n",
            "Epoch 28: val_accuracy did not improve from 0.80902\n",
            "316/316 [==============================] - 160s 506ms/step - loss: 0.5665 - accuracy: 0.8374 - precision: 0.8027 - recall: 0.7420 - val_loss: 0.6283 - val_accuracy: 0.8090 - val_precision: 0.7649 - val_recall: 0.6970\n",
            "Epoch 29/40\n",
            "316/316 [==============================] - ETA: 0s - loss: 0.5654 - accuracy: 0.8383 - precision: 0.8040 - recall: 0.7430\n",
            "Epoch 29: val_accuracy improved from 0.80902 to 0.80930, saving model to best_model.h5\n",
            "316/316 [==============================] - 160s 506ms/step - loss: 0.5654 - accuracy: 0.8383 - precision: 0.8040 - recall: 0.7430 - val_loss: 0.6270 - val_accuracy: 0.8093 - val_precision: 0.7632 - val_recall: 0.7011\n",
            "Epoch 30/40\n",
            "316/316 [==============================] - ETA: 0s - loss: 0.5633 - accuracy: 0.8396 - precision: 0.8054 - recall: 0.7458\n",
            "Epoch 30: val_accuracy did not improve from 0.80930\n",
            "316/316 [==============================] - 160s 506ms/step - loss: 0.5633 - accuracy: 0.8396 - precision: 0.8054 - recall: 0.7458 - val_loss: 0.6280 - val_accuracy: 0.8091 - val_precision: 0.7639 - val_recall: 0.6990\n",
            "Epoch 31/40\n",
            "316/316 [==============================] - ETA: 0s - loss: 0.5611 - accuracy: 0.8407 - precision: 0.8067 - recall: 0.7476\n",
            "Epoch 31: val_accuracy improved from 0.80930 to 0.81082, saving model to best_model.h5\n",
            "316/316 [==============================] - 160s 506ms/step - loss: 0.5611 - accuracy: 0.8407 - precision: 0.8067 - recall: 0.7476 - val_loss: 0.6263 - val_accuracy: 0.8108 - val_precision: 0.7633 - val_recall: 0.7068\n",
            "Epoch 32/40\n",
            "316/316 [==============================] - ETA: 0s - loss: 0.5595 - accuracy: 0.8417 - precision: 0.8077 - recall: 0.7498\n",
            "Epoch 32: val_accuracy did not improve from 0.81082\n",
            "316/316 [==============================] - 160s 506ms/step - loss: 0.5595 - accuracy: 0.8417 - precision: 0.8077 - recall: 0.7498 - val_loss: 0.6298 - val_accuracy: 0.8089 - val_precision: 0.7728 - val_recall: 0.6835\n",
            "Epoch 33/40\n",
            "316/316 [==============================] - ETA: 0s - loss: 0.5585 - accuracy: 0.8420 - precision: 0.8083 - recall: 0.7501\n",
            "Epoch 33: val_accuracy improved from 0.81082 to 0.81122, saving model to best_model.h5\n",
            "316/316 [==============================] - 160s 506ms/step - loss: 0.5585 - accuracy: 0.8420 - precision: 0.8083 - recall: 0.7501 - val_loss: 0.6265 - val_accuracy: 0.8112 - val_precision: 0.7616 - val_recall: 0.7114\n",
            "Epoch 34/40\n",
            "316/316 [==============================] - ETA: 0s - loss: 0.5566 - accuracy: 0.8435 - precision: 0.8098 - recall: 0.7527\n",
            "Epoch 34: val_accuracy did not improve from 0.81122\n",
            "316/316 [==============================] - 160s 506ms/step - loss: 0.5566 - accuracy: 0.8435 - precision: 0.8098 - recall: 0.7527 - val_loss: 0.6268 - val_accuracy: 0.8110 - val_precision: 0.7670 - val_recall: 0.7010\n",
            "Epoch 35/40\n",
            "316/316 [==============================] - ETA: 0s - loss: 0.5548 - accuracy: 0.8443 - precision: 0.8105 - recall: 0.7547\n",
            "Epoch 35: val_accuracy improved from 0.81122 to 0.81215, saving model to best_model.h5\n",
            "316/316 [==============================] - 160s 506ms/step - loss: 0.5548 - accuracy: 0.8443 - precision: 0.8105 - recall: 0.7547 - val_loss: 0.6256 - val_accuracy: 0.8122 - val_precision: 0.7643 - val_recall: 0.7104\n",
            "Epoch 36/40\n",
            "316/316 [==============================] - ETA: 0s - loss: 0.5535 - accuracy: 0.8451 - precision: 0.8116 - recall: 0.7561\n",
            "Epoch 36: val_accuracy did not improve from 0.81215\n",
            "316/316 [==============================] - 160s 505ms/step - loss: 0.5535 - accuracy: 0.8451 - precision: 0.8116 - recall: 0.7561 - val_loss: 0.6272 - val_accuracy: 0.8110 - val_precision: 0.7671 - val_recall: 0.7010\n",
            "Epoch 37/40\n",
            "316/316 [==============================] - ETA: 0s - loss: 0.5519 - accuracy: 0.8463 - precision: 0.8128 - recall: 0.7582\n",
            "Epoch 37: val_accuracy did not improve from 0.81215\n",
            "316/316 [==============================] - 160s 506ms/step - loss: 0.5519 - accuracy: 0.8463 - precision: 0.8128 - recall: 0.7582 - val_loss: 0.6262 - val_accuracy: 0.8116 - val_precision: 0.7667 - val_recall: 0.7039\n",
            "Epoch 38/40\n",
            "316/316 [==============================] - ETA: 0s - loss: 0.5505 - accuracy: 0.8468 - precision: 0.8132 - recall: 0.7596\n",
            "Epoch 38: val_accuracy improved from 0.81215 to 0.81254, saving model to best_model.h5\n",
            "316/316 [==============================] - 160s 506ms/step - loss: 0.5505 - accuracy: 0.8468 - precision: 0.8132 - recall: 0.7596 - val_loss: 0.6254 - val_accuracy: 0.8125 - val_precision: 0.7657 - val_recall: 0.7094\n",
            "Epoch 39/40\n",
            "316/316 [==============================] - ETA: 0s - loss: 0.5493 - accuracy: 0.8479 - precision: 0.8149 - recall: 0.7609\n",
            "Epoch 39: val_accuracy did not improve from 0.81254\n",
            "316/316 [==============================] - 160s 505ms/step - loss: 0.5493 - accuracy: 0.8479 - precision: 0.8149 - recall: 0.7609 - val_loss: 0.6243 - val_accuracy: 0.8125 - val_precision: 0.7533 - val_recall: 0.7318\n",
            "Epoch 40/40\n",
            "316/316 [==============================] - ETA: 0s - loss: 0.5479 - accuracy: 0.8486 - precision: 0.8152 - recall: 0.7629\n",
            "Epoch 40: val_accuracy did not improve from 0.81254\n",
            "316/316 [==============================] - 160s 505ms/step - loss: 0.5479 - accuracy: 0.8486 - precision: 0.8152 - recall: 0.7629 - val_loss: 0.6288 - val_accuracy: 0.8106 - val_precision: 0.7722 - val_recall: 0.6910\n"
          ]
        }
      ],
      "source": [
        "input_shape = (max_seq,)\n",
        "input_q1 = Input(shape=input_shape)\n",
        "input_q2 = Input(shape=input_shape)\n",
        "\n",
        "embedding_size = 200 # Set the embedding size\n",
        "gru_units = 128 # Set the number of LSTM units\n",
        "\n",
        "embedding_layer = Embedding(input_dim=len(tokenizer.word_index),\n",
        "                            output_dim=embedding_size,\n",
        "                            weights=[embedding_matrix],\n",
        "                            input_length=max_seq,\n",
        "                            trainable=False)\n",
        "\n",
        "gru_layer = GRU(units=gru_units)\n",
        "\n",
        "q1_encoded = gru_layer(embedding_layer(input_q1))\n",
        "q2_encoded = gru_layer(embedding_layer(input_q2))\n",
        "malstm_distance = Lambda(function=lambda x: exponent_neg_euclidean_distance(x[0], x[1]),output_shape=lambda x: (x[0][0], 1))([q1_encoded, q2_encoded])\n",
        "\n",
        "#merged = concatenate([q1_encoded, q2_encoded], axis=-1)\n",
        "#merged = Dropout(0.2)(merged)\n",
        "#merged = Dense(units=128, activation='relu')(merged)\n",
        "#merged = Dropout(0.2)(merged)\n",
        "#merged = Dense(units=64, activation='relu')(merged)\n",
        "#merged = Dropout(0.2)(merged)\n",
        "#merged = Dense(units=1, activation='sigmoid')(merged)\n",
        "\n",
        "siamese_model = Model(inputs=[input_q1, input_q2], outputs=malstm_distance)\n",
        "\n",
        "siamese_model.compile(loss='binary_crossentropy', optimizer='adam', metrics=['accuracy','Precision','Recall'])\n",
        "\n",
        "from tensorflow.keras.callbacks import ModelCheckpoint\n",
        "\n",
        "# define the checkpoint filepath\n",
        "checkpoint_filepath = 'best_model.h5'\n",
        "\n",
        "# create a ModelCheckpoint callback to save the best model\n",
        "checkpoint_callback = ModelCheckpoint(filepath=checkpoint_filepath, \n",
        "                                      save_best_only=True, \n",
        "                                      monitor='val_accuracy', \n",
        "                                      mode='max', \n",
        "                                      verbose=1)\n",
        "\n",
        "# Train the Siamese Neural Network model\n",
        "history = siamese_model.fit([x_train1, x_train2], y_train,\n",
        "                            validation_data=([x_test1, x_test2], y_test),\n",
        "                            epochs=40, batch_size=1024, verbose=1,callbacks=[checkpoint_callback])"
      ]
    },
    {
      "cell_type": "code",
      "execution_count": null,
      "metadata": {
        "colab": {
          "base_uri": "https://localhost:8080/"
        },
        "id": "qAH91KIPlwlh",
        "outputId": "153671e1-2eb3-4fab-a348-42a15ac5237f"
      },
      "outputs": [
        {
          "output_type": "stream",
          "name": "stdout",
          "text": [
            "2527/2527 [==============================] - 40s 16ms/step\n"
          ]
        }
      ],
      "source": [
        "### Prediting on test data for calculating performance metrics\n",
        "\n",
        "preds = siamese_model.predict([x_test1,x_test2])"
      ]
    },
    {
      "cell_type": "code",
      "execution_count": null,
      "metadata": {
        "colab": {
          "base_uri": "https://localhost:8080/"
        },
        "id": "vAP4_1cupYl6",
        "outputId": "fefb5d18-3280-4a30-dc8e-9b3b11988911"
      },
      "outputs": [
        {
          "output_type": "stream",
          "name": "stdout",
          "text": [
            "              precision    recall  f1-score   support\n",
            "\n",
            "           0       0.83      0.88      0.85     51001\n",
            "           1       0.77      0.69      0.73     29857\n",
            "\n",
            "    accuracy                           0.81     80858\n",
            "   macro avg       0.80      0.79      0.79     80858\n",
            "weighted avg       0.81      0.81      0.81     80858\n",
            "\n"
          ]
        }
      ],
      "source": [
        "## Converting probability values to 0,1\n",
        "preds_masked = np.where(preds >= 0.5, 1, 0)\n",
        "## Printing Results\n",
        "print(classification_report(y_test,preds_masked))"
      ]
    },
    {
      "cell_type": "code",
      "execution_count": null,
      "metadata": {
        "colab": {
          "base_uri": "https://localhost:8080/",
          "height": 849
        },
        "id": "e38xwkgcG0Bz",
        "outputId": "ba44fc86-5a81-4b20-ed49-dac803c782e7"
      },
      "outputs": [
        {
          "output_type": "display_data",
          "data": {
            "text/plain": [
              "<Figure size 1500x1500 with 4 Axes>"
            ],
            "image/png": "[encoded data removed]"
          },
          "metadata": {}
        }
      ],
      "source": [
        "### PLotting the training and validation scores across epochs. \n",
        "\n",
        "import matplotlib.pyplot as plt\n",
        "\n",
        "plt.figure(figsize=(15,15))\n",
        "\n",
        "plt.subplot(3,2,1)\n",
        "plt.plot(history.history[\"val_accuracy\"], label=\"validation_accuracy\", c=\"red\", linewidth=4)\n",
        "plt.plot(history.history[\"accuracy\"], label=\"training_accuracy\", c=\"green\", linewidth=4)\n",
        "plt.legend()\n",
        "plt.xlabel(\"Number of Epochs\")\n",
        "plt.ylabel(\"Accuracy\")\n",
        "plt.title(\"Accuracy\")\n",
        "plt.grid(True)\n",
        "\n",
        "plt.subplot(3,2,2)\n",
        "plt.plot(history.history[\"val_loss\"], label=\"validation_loss\", c=\"red\", linewidth=4)\n",
        "plt.plot(history.history[\"loss\"], label=\"training_loss\", c=\"green\", linewidth=4)\n",
        "plt.xlabel(\"Number of Epochs\")\n",
        "plt.ylabel(\"Loss\")\n",
        "plt.title(\"Loss\")\n",
        "plt.legend()\n",
        "plt.grid(True)\n",
        "\n",
        "\n",
        "plt.subplot(3,2,3)\n",
        "plt.plot(history.history[\"val_precision\"], label=\"validation_precision\", c=\"red\", linewidth=4)\n",
        "plt.plot(history.history[\"precision\"], label=\"training_precision\", c=\"green\", linewidth=4)\n",
        "plt.xlabel(\"Number of Epochs\")\n",
        "plt.ylabel(\"Precision\")\n",
        "plt.title(\"Precision\")\n",
        "plt.legend()\n",
        "plt.grid(True)\n",
        "\n",
        "\n",
        "plt.subplot(3,2,4)\n",
        "plt.plot(history.history[\"val_recall\"], label=\"validation_recall\", c=\"red\", linewidth=4)\n",
        "plt.plot(history.history[\"recall\"], label=\"training_recall\", c=\"green\", linewidth=4)\n",
        "plt.xlabel(\"Number of Epochs\")\n",
        "plt.ylabel(\"Recall\")\n",
        "plt.title(\"Recall\")\n",
        "plt.legend()\n",
        "plt.grid(True)\n",
        "\n",
        "\n",
        "plt.show()\n",
        "\n",
        "\n"
      ]
    },
    {
      "cell_type": "code",
      "execution_count": null,
      "metadata": {
        "id": "r-MCEmG1HDv0"
      },
      "outputs": [],
      "source": [
        "import pickle"
      ]
    },
    {
      "cell_type": "code",
      "source": [
        "with open('quora_question_pairs_glove_tokenizer.pkl', 'wb') as fp:\n",
        "        pickle.dump(tokenizer, fp)\n",
        "fp.close()\n",
        "#with open('quora_question_pairs_w2v_embedding_matrix.pkl', 'wb') as fp:\n",
        " #       pickle.dump(embedding_matrix, fp)\n",
        "#fp.close()"
      ],
      "metadata": {
        "id": "Ezf2wkxS1eJ4"
      },
      "execution_count": null,
      "outputs": []
    },
    {
      "cell_type": "code",
      "execution_count": null,
      "metadata": {
        "id": "QIz4xSeI_nXX"
      },
      "outputs": [],
      "source": [
        "import pickle\n",
        "with open('quora_question_pairs_glove_gru.pkl', 'wb') as fp:\n",
        "        pickle.dump(siamese_model, fp)"
      ]
    },
    {
      "cell_type": "code",
      "execution_count": null,
      "metadata": {
        "colab": {
          "base_uri": "https://localhost:8080/",
          "height": 35
        },
        "id": "hvhCpXl6AOVI",
        "outputId": "362cdc92-7f47-4045-8cef-ee5f9d8d5710"
      },
      "outputs": [
        {
          "output_type": "execute_result",
          "data": {
            "text/plain": [
              "'/content/drive/MyDrive/quora_question_pairs_glove_gru.pkl'"
            ],
            "application/vnd.google.colaboratory.intrinsic+json": {
              "type": "string"
            }
          },
          "metadata": {},
          "execution_count": 45
        }
      ],
      "source": [
        "import shutil\n",
        "colab_link = \"/content/quora_question_pairs_glove_gru.pkl\"\n",
        "gdrive_link = \"/content/drive/MyDrive/\"\n",
        "shutil.copy(colab_link, gdrive_link)"
      ]
    },
    {
      "cell_type": "code",
      "execution_count": null,
      "metadata": {
        "colab": {
          "base_uri": "https://localhost:8080/",
          "height": 35
        },
        "id": "uscxrpltAenc",
        "outputId": "4cdf278a-4521-42d8-e84c-4c49947cf6c5"
      },
      "outputs": [
        {
          "output_type": "execute_result",
          "data": {
            "text/plain": [
              "'/content/drive/MyDrive/quora_question_pairs_glove_tokenizer.pkl'"
            ],
            "application/vnd.google.colaboratory.intrinsic+json": {
              "type": "string"
            }
          },
          "metadata": {},
          "execution_count": 46
        }
      ],
      "source": [
        "\n",
        "colab_link = \"/content/quora_question_pairs_glove_tokenizer.pkl\"\n",
        "gdrive_link = \"/content/drive/MyDrive/\"\n",
        "shutil.copy(colab_link, gdrive_link)\n",
        "\n",
        "# colab_link = \"/content/quora_question_pairs_w2v_embedding_matrix.pkl\"\n",
        "# gdrive_link = \"/content/drive/MyDrive/\"\n",
        "# shutil.copy(colab_link, gdrive_link)"
      ]
    },
    {
      "cell_type": "code",
      "execution_count": null,
      "metadata": {
        "id": "CthJ9YpvD_3T"
      },
      "outputs": [],
      "source": []
    }
  ],
  "metadata": {
    "accelerator": "GPU",
    "colab": {
      "machine_shape": "hm",
      "provenance": [],
      "include_colab_link": true
    },
    "gpuClass": "standard",
    "kernelspec": {
      "display_name": "Python 3 (ipykernel)",
      "language": "python",
      "name": "python3"
    },
    "language_info": {
      "codemirror_mode": {
        "name": "ipython",
        "version": 3
      },
      "file_extension": ".py",
      "mimetype": "text/x-python",
      "name": "python",
      "nbconvert_exporter": "python",
      "pygments_lexer": "ipython3",
      "version": "3.9.7"
    }
  },
  "nbformat": 4,
  "nbformat_minor": 0
}